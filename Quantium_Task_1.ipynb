{
 "cells": [
  {
   "cell_type": "code",
   "execution_count": 2,
   "metadata": {},
   "outputs": [],
   "source": [
    "import pandas as pd\n",
    "import matplotlib.pyplot as plt\n",
    "%matplotlib inline\n",
    "import numpy as np\n"
   ]
  },
  {
   "cell_type": "code",
   "execution_count": 3,
   "metadata": {},
   "outputs": [
    {
     "name": "stdout",
     "output_type": "stream",
     "text": [
      "   LYLTY_CARD_NBR               LIFESTAGE PREMIUM_CUSTOMER\n",
      "0            1000   YOUNG SINGLES/COUPLES          Premium\n",
      "1            1002   YOUNG SINGLES/COUPLES       Mainstream\n",
      "2            1003          YOUNG FAMILIES           Budget\n",
      "3            1004   OLDER SINGLES/COUPLES       Mainstream\n",
      "4            1005  MIDAGE SINGLES/COUPLES       Mainstream\n"
     ]
    }
   ],
   "source": [
    "purchase_behavior = pd.read_csv(\"QVI_purchase_behaviour.csv\")\n",
    "print(purchase_behavior.head())"
   ]
  },
  {
   "cell_type": "code",
   "execution_count": 4,
   "metadata": {},
   "outputs": [
    {
     "name": "stdout",
     "output_type": "stream",
     "text": [
      "    DATE  STORE_NBR  LYLTY_CARD_NBR  TXN_ID  PROD_NBR  \\\n",
      "0  43390          1            1000       1         5   \n",
      "1  43599          1            1307     348        66   \n",
      "2  43605          1            1343     383        61   \n",
      "3  43329          2            2373     974        69   \n",
      "4  43330          2            2426    1038       108   \n",
      "\n",
      "                                  PROD_NAME  PROD_QTY  TOT_SALES  \n",
      "0    Natural Chip        Compny SeaSalt175g         2        6.0  \n",
      "1                  CCs Nacho Cheese    175g         3        6.3  \n",
      "2    Smiths Crinkle Cut  Chips Chicken 170g         2        2.9  \n",
      "3    Smiths Chip Thinly  S/Cream&Onion 175g         5       15.0  \n",
      "4  Kettle Tortilla ChpsHny&Jlpno Chili 150g         3       13.8  \n"
     ]
    }
   ],
   "source": [
    "transactions_data = pd.read_excel(\"QVI_transaction_data.xlsx\")\n",
    "print(transactions_data.head())"
   ]
  },
  {
   "cell_type": "code",
   "execution_count": 5,
   "metadata": {},
   "outputs": [
    {
     "name": "stdout",
     "output_type": "stream",
     "text": [
      "   LYLTY_CARD_NBR              LIFESTAGE PREMIUM_CUSTOMER   DATE  STORE_NBR  \\\n",
      "0            1000  YOUNG SINGLES/COUPLES          Premium  43390          1   \n",
      "1            1002  YOUNG SINGLES/COUPLES       Mainstream  43359          1   \n",
      "2            1003         YOUNG FAMILIES           Budget  43531          1   \n",
      "3            1003         YOUNG FAMILIES           Budget  43532          1   \n",
      "4            1004  OLDER SINGLES/COUPLES       Mainstream  43406          1   \n",
      "\n",
      "   TXN_ID  PROD_NBR                               PROD_NAME  PROD_QTY  \\\n",
      "0       1         5  Natural Chip        Compny SeaSalt175g         2   \n",
      "1       2        58   Red Rock Deli Chikn&Garlic Aioli 150g         1   \n",
      "2       3        52   Grain Waves Sour    Cream&Chives 210G         1   \n",
      "3       4       106  Natural ChipCo      Hony Soy Chckn175g         1   \n",
      "4       5        96          WW Original Stacked Chips 160g         1   \n",
      "\n",
      "   TOT_SALES  \n",
      "0        6.0  \n",
      "1        2.7  \n",
      "2        3.6  \n",
      "3        3.0  \n",
      "4        1.9  \n"
     ]
    }
   ],
   "source": [
    "joined_sets = pd.merge(purchase_behavior, transactions_data, on=\"LYLTY_CARD_NBR\", how=\"right\")\n",
    "print(joined_sets.head())"
   ]
  },
  {
   "cell_type": "code",
   "execution_count": 6,
   "metadata": {},
   "outputs": [
    {
     "name": "stdout",
     "output_type": "stream",
     "text": [
      "   LYLTY_CARD_NBR              LIFESTAGE PREMIUM_CUSTOMER       DATE  \\\n",
      "0            1000  YOUNG SINGLES/COUPLES          Premium 2018-10-17   \n",
      "1            1002  YOUNG SINGLES/COUPLES       Mainstream 2018-09-16   \n",
      "2            1003         YOUNG FAMILIES           Budget 2019-03-07   \n",
      "3            1003         YOUNG FAMILIES           Budget 2019-03-08   \n",
      "4            1004  OLDER SINGLES/COUPLES       Mainstream 2018-11-02   \n",
      "\n",
      "   STORE_NBR  TXN_ID  PROD_NBR                               PROD_NAME  \\\n",
      "0          1       1         5  Natural Chip        Compny SeaSalt175g   \n",
      "1          1       2        58   Red Rock Deli Chikn&Garlic Aioli 150g   \n",
      "2          1       3        52   Grain Waves Sour    Cream&Chives 210G   \n",
      "3          1       4       106  Natural ChipCo      Hony Soy Chckn175g   \n",
      "4          1       5        96          WW Original Stacked Chips 160g   \n",
      "\n",
      "   PROD_QTY  TOT_SALES  \n",
      "0         2        6.0  \n",
      "1         1        2.7  \n",
      "2         1        3.6  \n",
      "3         1        3.0  \n",
      "4         1        1.9  \n"
     ]
    }
   ],
   "source": [
    "from datetime import date, timedelta\n",
    "##convert date to datetime format\n",
    "\n",
    "## integer dates start at December 30, 1899\n",
    "start = date(1899,12,30)\n",
    "\n",
    "## list to store new dates\n",
    "new_dates = []\n",
    "\n",
    "for date in joined_sets['DATE']:\n",
    "    num_days = timedelta(date)\n",
    "    new_dates.append(start + num_days)\n",
    "\n",
    "joined_sets['DATE'] = pd.to_datetime(pd.Series(new_dates)) \n",
    "print(joined_sets.head())"
   ]
  },
  {
   "cell_type": "code",
   "execution_count": 7,
   "metadata": {},
   "outputs": [
    {
     "data": {
      "text/plain": [
       "array(['Natural Chip        Compny SeaSalt175g',\n",
       "       'Red Rock Deli Chikn&Garlic Aioli 150g',\n",
       "       'Grain Waves Sour    Cream&Chives 210G',\n",
       "       'Natural ChipCo      Hony Soy Chckn175g',\n",
       "       'WW Original Stacked Chips 160g', 'Cheetos Puffs 165g',\n",
       "       'Infuzions SourCream&Herbs Veg Strws 110g',\n",
       "       'RRD SR Slow Rst     Pork Belly 150g',\n",
       "       'Doritos Cheese      Supreme 330g', 'Doritos Mexicana    170g',\n",
       "       'Old El Paso Salsa   Dip Tomato Med 300g',\n",
       "       'GrnWves Plus Btroot & Chilli Jam 180g',\n",
       "       'Smiths Crinkle Cut  Chips Barbecue 170g',\n",
       "       'Kettle Sensations   Camembert & Fig 150g',\n",
       "       'Doritos Corn Chip Southern Chicken 150g',\n",
       "       'CCs Tasty Cheese    175g', 'Tostitos Splash Of  Lime 175g',\n",
       "       'Kettle 135g Swt Pot Sea Salt', 'RRD Salt & Vinegar  165g',\n",
       "       'Infuzions Mango     Chutny Papadums 70g',\n",
       "       'Smiths Crinkle Cut  Snag&Sauce 150g',\n",
       "       'Smiths Crinkle      Original 330g',\n",
       "       'RRD Sweet Chilli &  Sour Cream 165g',\n",
       "       'Smiths Chip Thinly  S/Cream&Onion 175g',\n",
       "       'Smiths Crinkle Chips Salt & Vinegar 330g',\n",
       "       'Red Rock Deli SR    Salsa & Mzzrlla 150g',\n",
       "       'Cobs Popd Sea Salt  Chips 110g',\n",
       "       'Natural ChipCo Sea  Salt & Vinegr 175g',\n",
       "       'Natural Chip Co     Tmato Hrb&Spce 175g', 'Burger Rings 220g',\n",
       "       'Woolworths Cheese   Rings 190g',\n",
       "       'Smiths Thinly       Swt Chli&S/Cream175G',\n",
       "       'Thins Chips Seasonedchicken 175g',\n",
       "       'Smiths Thinly Cut   Roast Chicken 175g',\n",
       "       'Tyrrells Crisps     Ched & Chives 165g',\n",
       "       'Doritos Corn Chips  Cheese Supreme 170g',\n",
       "       'Smiths Chip Thinly  Cut Original 175g',\n",
       "       'Smiths Crinkle Cut  Chips Original 170g',\n",
       "       'Thins Chips Light&  Tangy 175g',\n",
       "       'Doritos Corn Chips  Original 170g',\n",
       "       'Kettle Sensations   Siracha Lime 150g',\n",
       "       'Smiths Crinkle Cut  Salt & Vinegar 170g',\n",
       "       'Smith Crinkle Cut   Bolognese 150g', 'Cheezels Cheese 330g',\n",
       "       'Kettle Chilli 175g', 'Tyrrells Crisps     Lightly Salted 165g',\n",
       "       'Twisties Cheese     270g', 'WW Crinkle Cut      Chicken 175g',\n",
       "       'RRD Chilli&         Coconut 150g',\n",
       "       'Infuzions BBQ Rib   Prawn Crackers 110g',\n",
       "       'Sunbites Whlegrn    Crisps Frch/Onin 90g',\n",
       "       'Doritos Salsa       Medium 300g',\n",
       "       'Kettle Tortilla ChpsFeta&Garlic 150g',\n",
       "       'Smiths Crinkle Cut  French OnionDip 150g',\n",
       "       'WW D/Style Chip     Sea Salt 200g',\n",
       "       'Smiths Chip Thinly  CutSalt/Vinegr175g',\n",
       "       'Kettle Sensations   BBQ&Maple 150g',\n",
       "       'Old El Paso Salsa   Dip Tomato Mild 300g',\n",
       "       'Tostitos Smoked     Chipotle 175g', 'RRD Lime & Pepper   165g',\n",
       "       'CCs Nacho Cheese    175g', 'Snbts Whlgrn Crisps Cheddr&Mstrd 90g',\n",
       "       'Kettle Tortilla ChpsBtroot&Ricotta 150g',\n",
       "       'Pringles Sthrn FriedChicken 134g',\n",
       "       'Pringles Chicken    Salt Crips 134g',\n",
       "       'French Fries Potato Chips 175g',\n",
       "       'Kettle Mozzarella   Basil & Pesto 175g', 'CCs Original 175g',\n",
       "       'Tostitos Lightly    Salted 175g',\n",
       "       'Smiths Crnkle Chip  Orgnl Big Bag 380g',\n",
       "       'Smiths Crinkle Cut  Chips Chicken 170g',\n",
       "       'Smiths Crinkle Cut  Chips Chs&Onion170g', 'Twisties Chicken270g',\n",
       "       'Woolworths Medium   Salsa 300g',\n",
       "       'Red Rock Deli Sp    Salt & Truffle 150G',\n",
       "       'RRD Pc Sea Salt     165g', 'WW Supreme Cheese   Corn Chips 200g',\n",
       "       'WW Original Corn    Chips 200g', 'Woolworths Mild     Salsa 300g',\n",
       "       'Cheezels Cheese Box 125g', 'Doritos Salsa Mild  300g',\n",
       "       'Cobs Popd Swt/Chlli &Sr/Cream Chips 110g',\n",
       "       'Infzns Crn Crnchers Tangy Gcamole 110g',\n",
       "       'WW Sour Cream &OnionStacked Chips 160g',\n",
       "       'Pringles Mystery    Flavour 134g', 'Pringles Barbeque   134g',\n",
       "       'Grain Waves         Sweet Chilli 210g',\n",
       "       'Pringles Sweet&Spcy BBQ 134g', 'Kettle Original 175g',\n",
       "       'Infuzions Thai SweetChili PotatoMix 110g',\n",
       "       'Old El Paso Salsa   Dip Chnky Tom Ht300g',\n",
       "       'Smiths Crinkle Cut  Tomato Salsa 150g',\n",
       "       'Cheetos Chs & Bacon Balls 190g',\n",
       "       'Kettle Sweet Chilli And Sour Cream 175g',\n",
       "       'Doritos Corn Chips  Nacho Cheese 170g',\n",
       "       'Cobs Popd Sour Crm  &Chives Chips 110g',\n",
       "       'Red Rock Deli Thai  Chilli&Lime 150g',\n",
       "       'Twisties Cheese     Burger 250g',\n",
       "       'Kettle Sea Salt     And Vinegar 175g',\n",
       "       'WW Crinkle Cut      Original 175g',\n",
       "       'Dorito Corn Chp     Supreme 380g',\n",
       "       'Doritos Corn Chip Mexican Jalapeno 150g',\n",
       "       'Pringles SourCream  Onion 134g',\n",
       "       'Kettle Tortilla ChpsHny&Jlpno Chili 150g',\n",
       "       'RRD Steak &         Chimuchurri 150g',\n",
       "       'Thins Chips Salt &  Vinegar 175g',\n",
       "       'Thins Chips         Originl saltd 175g',\n",
       "       'RRD Honey Soy       Chicken 165g',\n",
       "       'Kettle Honey Soy    Chicken 175g',\n",
       "       'NCC Sour Cream &    Garden Chives 175g',\n",
       "       'Pringles Original   Crisps 134g',\n",
       "       'Smith Crinkle Cut   Mac N Cheese 150g',\n",
       "       'Thins Potato Chips  Hot & Spicy 175g', 'Pringles Slt Vingar 134g'],\n",
       "      dtype=object)"
      ]
     },
     "execution_count": 7,
     "metadata": {},
     "output_type": "execute_result"
    }
   ],
   "source": [
    "## check to see if all products are chips\n",
    "joined_sets[\"PROD_NAME\"].unique()"
   ]
  },
  {
   "cell_type": "code",
   "execution_count": 8,
   "metadata": {},
   "outputs": [
    {
     "name": "stdout",
     "output_type": "stream",
     "text": [
      "0              [Natural, Chip, Compny, SeaSalt]\n",
      "1       [Red, Rock, Deli, Chikn, Garlic, Aioli]\n",
      "2           [Grain, Waves, Sour, Cream, Chives]\n",
      "3           [Natural, ChipCo, Hony, Soy, Chckn]\n",
      "4                [WW, Original, Stacked, Chips]\n",
      "5                              [Cheetos, Puffs]\n",
      "6     [Infuzions, SourCream, Herbs, Veg, Strws]\n",
      "7             [RRD, SR, Slow, Rst, Pork, Belly]\n",
      "8                    [Doritos, Cheese, Supreme]\n",
      "9                           [Doritos, Mexicana]\n",
      "10     [Old, El, Paso, Salsa, Dip, Tomato, Med]\n",
      "11         [GrnWves, Plus, Btroot, Chilli, Jam]\n",
      "12     [Old, El, Paso, Salsa, Dip, Tomato, Med]\n",
      "13    [Infuzions, SourCream, Herbs, Veg, Strws]\n",
      "14      [Smiths, Crinkle, Cut, Chips, Barbecue]\n",
      "15                   [Doritos, Cheese, Supreme]\n",
      "16         [Kettle, Sensations, Camembert, Fig]\n",
      "17     [Doritos, Corn, Chip, Southern, Chicken]\n",
      "18                         [CCs, Tasty, Cheese]\n",
      "19                 [Tostitos, Splash, Of, Lime]\n",
      "Name: PROD_NAME, dtype: object\n"
     ]
    }
   ],
   "source": [
    "import string\n",
    "import re\n",
    "\n",
    "#remove numberics plus gram unit at end and special charecters in one step\n",
    "prod_name_split_words = joined_sets['PROD_NAME'].str.replace(r'([0-9]+[gG])','').str.replace(r'[^\\w]', ' ').str.split()\n",
    "\n",
    "print(prod_name_split_words.head(20))"
   ]
  },
  {
   "cell_type": "code",
   "execution_count": 9,
   "metadata": {},
   "outputs": [
    {
     "name": "stdout",
     "output_type": "stream",
     "text": [
      "Chips     49770\n",
      "Kettle    41288\n",
      "Smiths    28860\n",
      "Salt      27976\n",
      "Cheese    27890\n",
      "          ...  \n",
      "Onin       1432\n",
      "Pc         1431\n",
      "Garden     1419\n",
      "NCC        1419\n",
      "Fries      1418\n",
      "Length: 198, dtype: int64\n"
     ]
    }
   ],
   "source": [
    "word_counts = {}\n",
    "\n",
    "#nested loop to go through arrays and count words\n",
    "for line in prod_name_split_words:\n",
    "    for word in line:\n",
    "        if (word not in word_counts) and (word.isnumeric() == False):\n",
    "            word_counts[word] = 1\n",
    "        elif word in word_counts:\n",
    "            word_counts[word] += 1         \n",
    "\n",
    "print(pd.Series(word_counts).sort_values(ascending=False))  "
   ]
  },
  {
   "cell_type": "code",
   "execution_count": 9,
   "metadata": {},
   "outputs": [],
   "source": [
    "#removing values that contain salsa or Salsa\n",
    "joined_sets = joined_sets[~joined_sets['PROD_NAME'].str.contains(r\"[Ss]alsa\")]"
   ]
  },
  {
   "cell_type": "code",
   "execution_count": 10,
   "metadata": {},
   "outputs": [
    {
     "name": "stdout",
     "output_type": "stream",
     "text": [
      "       LYLTY_CARD_NBR     STORE_NBR        TXN_ID       PROD_NBR  \\\n",
      "count    2.648360e+05  264836.00000  2.648360e+05  264836.000000   \n",
      "mean     1.355495e+05     135.08011  1.351583e+05      56.583157   \n",
      "std      8.057998e+04      76.78418  7.813303e+04      32.826638   \n",
      "min      1.000000e+03       1.00000  1.000000e+00       1.000000   \n",
      "25%      7.002100e+04      70.00000  6.760150e+04      28.000000   \n",
      "50%      1.303575e+05     130.00000  1.351375e+05      56.000000   \n",
      "75%      2.030942e+05     203.00000  2.027012e+05      85.000000   \n",
      "max      2.373711e+06     272.00000  2.415841e+06     114.000000   \n",
      "\n",
      "            PROD_QTY      TOT_SALES  \n",
      "count  264836.000000  264836.000000  \n",
      "mean        1.907309       7.304200  \n",
      "std         0.643654       3.083226  \n",
      "min         1.000000       1.500000  \n",
      "25%         2.000000       5.400000  \n",
      "50%         2.000000       7.400000  \n",
      "75%         2.000000       9.200000  \n",
      "max       200.000000     650.000000  \n"
     ]
    }
   ],
   "source": [
    "#pandas equivalent to r summary function\n",
    "summary_statistics = joined_sets.describe()\n",
    "print(summary_statistics)"
   ]
  },
  {
   "cell_type": "code",
   "execution_count": 11,
   "metadata": {},
   "outputs": [
    {
     "name": "stdout",
     "output_type": "stream",
     "text": [
      "(0.8, 50.75]       264834\n",
      "(150.25, 200.0]         2\n",
      "(100.5, 150.25]         0\n",
      "(50.75, 100.5]          0\n",
      "Name: PROD_QTY, dtype: int64\n"
     ]
    }
   ],
   "source": [
    "outliers = joined_sets['PROD_QTY'].value_counts(bins = 4)\n",
    "print(outliers)"
   ]
  },
  {
   "cell_type": "code",
   "execution_count": 12,
   "metadata": {},
   "outputs": [
    {
     "data": {
      "text/html": [
       "<div>\n",
       "<style scoped>\n",
       "    .dataframe tbody tr th:only-of-type {\n",
       "        vertical-align: middle;\n",
       "    }\n",
       "\n",
       "    .dataframe tbody tr th {\n",
       "        vertical-align: top;\n",
       "    }\n",
       "\n",
       "    .dataframe thead th {\n",
       "        text-align: right;\n",
       "    }\n",
       "</style>\n",
       "<table border=\"1\" class=\"dataframe\">\n",
       "  <thead>\n",
       "    <tr style=\"text-align: right;\">\n",
       "      <th></th>\n",
       "      <th>LYLTY_CARD_NBR</th>\n",
       "      <th>LIFESTAGE</th>\n",
       "      <th>PREMIUM_CUSTOMER</th>\n",
       "      <th>DATE</th>\n",
       "      <th>STORE_NBR</th>\n",
       "      <th>TXN_ID</th>\n",
       "      <th>PROD_NBR</th>\n",
       "      <th>PROD_NAME</th>\n",
       "      <th>PROD_QTY</th>\n",
       "      <th>TOT_SALES</th>\n",
       "    </tr>\n",
       "  </thead>\n",
       "  <tbody>\n",
       "    <tr>\n",
       "      <th>221626</th>\n",
       "      <td>226000</td>\n",
       "      <td>OLDER FAMILIES</td>\n",
       "      <td>Premium</td>\n",
       "      <td>2019-05-20</td>\n",
       "      <td>226</td>\n",
       "      <td>226210</td>\n",
       "      <td>4</td>\n",
       "      <td>Dorito Corn Chp     Supreme 380g</td>\n",
       "      <td>200</td>\n",
       "      <td>650.0</td>\n",
       "    </tr>\n",
       "    <tr>\n",
       "      <th>221625</th>\n",
       "      <td>226000</td>\n",
       "      <td>OLDER FAMILIES</td>\n",
       "      <td>Premium</td>\n",
       "      <td>2018-08-19</td>\n",
       "      <td>226</td>\n",
       "      <td>226201</td>\n",
       "      <td>4</td>\n",
       "      <td>Dorito Corn Chp     Supreme 380g</td>\n",
       "      <td>200</td>\n",
       "      <td>650.0</td>\n",
       "    </tr>\n",
       "    <tr>\n",
       "      <th>145041</th>\n",
       "      <td>148238</td>\n",
       "      <td>OLDER SINGLES/COUPLES</td>\n",
       "      <td>Mainstream</td>\n",
       "      <td>2019-05-20</td>\n",
       "      <td>148</td>\n",
       "      <td>148046</td>\n",
       "      <td>87</td>\n",
       "      <td>Infuzions BBQ Rib   Prawn Crackers 110g</td>\n",
       "      <td>5</td>\n",
       "      <td>19.0</td>\n",
       "    </tr>\n",
       "    <tr>\n",
       "      <th>89729</th>\n",
       "      <td>93152</td>\n",
       "      <td>RETIREES</td>\n",
       "      <td>Premium</td>\n",
       "      <td>2018-08-16</td>\n",
       "      <td>93</td>\n",
       "      <td>91631</td>\n",
       "      <td>46</td>\n",
       "      <td>Kettle Original 175g</td>\n",
       "      <td>5</td>\n",
       "      <td>27.0</td>\n",
       "    </tr>\n",
       "    <tr>\n",
       "      <th>76734</th>\n",
       "      <td>80018</td>\n",
       "      <td>MIDAGE SINGLES/COUPLES</td>\n",
       "      <td>Mainstream</td>\n",
       "      <td>2018-08-15</td>\n",
       "      <td>80</td>\n",
       "      <td>78356</td>\n",
       "      <td>26</td>\n",
       "      <td>Pringles Sweet&amp;Spcy BBQ 134g</td>\n",
       "      <td>5</td>\n",
       "      <td>18.5</td>\n",
       "    </tr>\n",
       "  </tbody>\n",
       "</table>\n",
       "</div>"
      ],
      "text/plain": [
       "        LYLTY_CARD_NBR               LIFESTAGE PREMIUM_CUSTOMER       DATE  \\\n",
       "221626          226000          OLDER FAMILIES          Premium 2019-05-20   \n",
       "221625          226000          OLDER FAMILIES          Premium 2018-08-19   \n",
       "145041          148238   OLDER SINGLES/COUPLES       Mainstream 2019-05-20   \n",
       "89729            93152                RETIREES          Premium 2018-08-16   \n",
       "76734            80018  MIDAGE SINGLES/COUPLES       Mainstream 2018-08-15   \n",
       "\n",
       "        STORE_NBR  TXN_ID  PROD_NBR                                PROD_NAME  \\\n",
       "221626        226  226210         4         Dorito Corn Chp     Supreme 380g   \n",
       "221625        226  226201         4         Dorito Corn Chp     Supreme 380g   \n",
       "145041        148  148046        87  Infuzions BBQ Rib   Prawn Crackers 110g   \n",
       "89729          93   91631        46                     Kettle Original 175g   \n",
       "76734          80   78356        26             Pringles Sweet&Spcy BBQ 134g   \n",
       "\n",
       "        PROD_QTY  TOT_SALES  \n",
       "221626       200      650.0  \n",
       "221625       200      650.0  \n",
       "145041         5       19.0  \n",
       "89729          5       27.0  \n",
       "76734          5       18.5  "
      ]
     },
     "execution_count": 12,
     "metadata": {},
     "output_type": "execute_result"
    }
   ],
   "source": [
    "joined_sets.sort_values(by=\"PROD_QTY\", ascending=False).head()"
   ]
  },
  {
   "cell_type": "code",
   "execution_count": 13,
   "metadata": {},
   "outputs": [],
   "source": [
    "# looking at the head of the dataframe in descendng order tells us that 5 is the highest value for PROD_QTY after 200, we must \n",
    "#remove all rows with a PROD_QTY < 6\n",
    "joined_sets = joined_sets[joined_sets['PROD_QTY'] < 6]"
   ]
  },
  {
   "cell_type": "code",
   "execution_count": 14,
   "metadata": {},
   "outputs": [
    {
     "data": {
      "text/plain": [
       "0"
      ]
     },
     "execution_count": 14,
     "metadata": {},
     "output_type": "execute_result"
    }
   ],
   "source": [
    "#check to see if that customer got removed (if length = 0, then removed)\n",
    "len(joined_sets[joined_sets['LYLTY_CARD_NBR'] == 226000])"
   ]
  },
  {
   "cell_type": "code",
   "execution_count": 15,
   "metadata": {},
   "outputs": [
    {
     "data": {
      "text/plain": [
       "count                  264834\n",
       "unique                    364\n",
       "top       2018-12-24 00:00:00\n",
       "freq                      939\n",
       "first     2018-07-01 00:00:00\n",
       "last      2019-06-30 00:00:00\n",
       "Name: DATE, dtype: object"
      ]
     },
     "execution_count": 15,
     "metadata": {},
     "output_type": "execute_result"
    }
   ],
   "source": [
    "#check for date issues\n",
    "joined_sets['DATE'].describe()"
   ]
  },
  {
   "cell_type": "code",
   "execution_count": 16,
   "metadata": {},
   "outputs": [],
   "source": [
    "#find missing date using differenc emethod\n",
    "null_date = pd.date_range(start=joined_sets['DATE'].min(), end=joined_sets['DATE'].max()).difference(joined_sets['DATE'])"
   ]
  },
  {
   "cell_type": "code",
   "execution_count": 17,
   "metadata": {},
   "outputs": [],
   "source": [
    "transaction_by_date = pd.merge(pd.Series(pd.date_range(start=joined_sets['DATE'].min(), end=joined_sets['DATE'].max()), name='DATE'), joined_sets, on='DATE', how='left')"
   ]
  },
  {
   "cell_type": "code",
   "execution_count": 18,
   "metadata": {},
   "outputs": [
    {
     "name": "stderr",
     "output_type": "stream",
     "text": [
      "<ipython-input-18-7cd527c1b9a3>:2: FutureWarning: The pandas.datetime class is deprecated and will be removed from pandas in a future version. Import from datetime module instead.\n",
      "  month = transactions_by_date_list[(transactions_by_date_list.index >= pd.datetime(2018,12,1)) & (transactions_by_date_list.index < pd.datetime(2019,1,1))].sort_index()\n"
     ]
    },
    {
     "data": {
      "image/png": "[encoded data removed]",
      "text/plain": [
       "<Figure size 1080x216 with 1 Axes>"
      ]
     },
     "metadata": {
      "needs_background": "light"
     },
     "output_type": "display_data"
    }
   ],
   "source": [
    "transactions_by_date_list = transaction_by_date['DATE'].value_counts()\n",
    "month = transactions_by_date_list[(transactions_by_date_list.index >= pd.datetime(2018,12,1)) & (transactions_by_date_list.index < pd.datetime(2019,1,1))].sort_index()\n",
    "month.index = month.index.strftime('%d')\n",
    "ax = month.plot(figsize=(15,3))\n",
    "ax.set_xticks(np.arange(len(month)))\n",
    "ax.set_xticklabels(month.index)\n",
    "plt.title(\"December 2018 Sales\")\n",
    "plt.savefig(\"December_2018_Sales.png\", bbox_inches=\"tight\")\n",
    "plt.show()"
   ]
  },
  {
   "cell_type": "code",
   "execution_count": 19,
   "metadata": {},
   "outputs": [
    {
     "name": "stdout",
     "output_type": "stream",
     "text": [
      "2018-12-25      1\n",
      "2018-11-25    648\n",
      "2018-10-18    658\n",
      "2019-06-13    659\n",
      "2019-06-24    662\n",
      "Name: DATE, dtype: int64\n"
     ]
    }
   ],
   "source": [
    "#check day where appears in list once (day that was added manually)\n",
    "print(transaction_by_date['DATE'].value_counts().sort_values().head())"
   ]
  },
  {
   "cell_type": "code",
   "execution_count": 20,
   "metadata": {},
   "outputs": [
    {
     "name": "stdout",
     "output_type": "stream",
     "text": [
      "count    258770.000000\n",
      "mean        182.324276\n",
      "std          64.955035\n",
      "min          70.000000\n",
      "25%         150.000000\n",
      "50%         170.000000\n",
      "75%         175.000000\n",
      "max         380.000000\n",
      "Name: 0, dtype: float64\n"
     ]
    },
    {
     "data": {
      "text/plain": [
       "<matplotlib.axes._subplots.AxesSubplot at 0x27a6fb08520>"
      ]
     },
     "execution_count": 20,
     "metadata": {},
     "output_type": "execute_result"
    },
    {
     "data": {
      "image/png": "[encoded data removed]",
      "text/plain": [
       "<Figure size 432x288 with 1 Axes>"
      ]
     },
     "metadata": {
      "needs_background": "light"
     },
     "output_type": "display_data"
    }
   ],
   "source": [
    "import collections\n",
    "\n",
    "#PACK_SIZE = {}\n",
    "\n",
    "joined_sets['PROD_NAME'] = joined_sets['PROD_NAME'].str.replace(r'[0-9]+(G)','g')\n",
    "PACK_SIZE = joined_sets['PROD_NAME'].str.extract(r'([0-9]+[gG])')[0].str.replace(\"g\",\"\").astype(\"float\")\n",
    "print(PACK_SIZE.describe())\n",
    "PACK_SIZE.plot.hist()\n",
    "\n",
    "#joined_sets['PROD_NAME'] = joined_sets['PROD_NAME'].str.replace(r'[0-9]+(G)','g')\n",
    "\n",
    "#print(joined_sets['PROD_NAME'].head(20))\n",
    "\n",
    "#for line in prod_name_split_words:\n",
    " #   size = re.sub('[^0-9]', \"\", line[-1])\n",
    "  #  if size:\n",
    "   #     if int(size) not in PACK_SIZE:\n",
    "    #        PACK_SIZE[int(size)] = 1\n",
    "     #   else:\n",
    "      #      PACK_SIZE[int(size)] += 1\n",
    "\n",
    "#PACK_SIZE = collections.OrderedDict(sorted(PACK_SIZE.items()))\n",
    "#print(PACK_SIZE)\n",
    "#plt.bar(list(PACK_SIZE.keys()),PACK_SIZE.values(), color='b')\n",
    "#plt.xlabel('Pack Size')\n",
    "#plt.ylabel('Frequency')\n",
    "#plt.show()\n",
    "#plt.plot(list(PACK_SIZE.keys()),list(PACK_SIZE.values()))"
   ]
  },
  {
   "cell_type": "code",
   "execution_count": 21,
   "metadata": {},
   "outputs": [
    {
     "data": {
      "text/plain": [
       "Burger         1564\n",
       "CCs            4551\n",
       "Cheetos        2927\n",
       "Cheezels       4603\n",
       "Cobs           9693\n",
       "Dorito         3183\n",
       "Doritos       24962\n",
       "French         1418\n",
       "Grain          6272\n",
       "GrnWves        1468\n",
       "Infuzions     11057\n",
       "Infzns         3144\n",
       "Kettle        41288\n",
       "NCC            1419\n",
       "Natural        6050\n",
       "Old            9324\n",
       "Pringles      25102\n",
       "RRD           11894\n",
       "Red            5885\n",
       "Smith          2963\n",
       "Smiths        28860\n",
       "Snbts          1576\n",
       "Sunbites       1432\n",
       "Thins         14075\n",
       "Tostitos       9471\n",
       "Twisties       9454\n",
       "Tyrrells       6442\n",
       "WW            10320\n",
       "Woolworths     4437\n",
       "Name: PROD_NAME, dtype: int64"
      ]
     },
     "execution_count": 21,
     "metadata": {},
     "output_type": "execute_result"
    }
   ],
   "source": [
    "#list of product brand names\n",
    "joined_sets['PROD_NAME'].str.split().str[0].value_counts().sort_index()"
   ]
  },
  {
   "cell_type": "code",
   "execution_count": 22,
   "metadata": {},
   "outputs": [],
   "source": [
    "joined_sets['Cleaned_Brand_Names'] = joined_sets['PROD_NAME'].str.split().str[0]\n",
    "\n",
    "def clean_brand_names(line):\n",
    "    brand = line['Cleaned_Brand_Names']\n",
    "    if brand == 'Dorito':\n",
    "        return  'Doritos'\n",
    "    elif brand == 'GrnWves' or brand == 'Grain':\n",
    "        return 'Grain Waves'\n",
    "    elif brand == 'Infzns':\n",
    "        return 'Infuzions'\n",
    "    elif brand == 'Natural' or brand == 'NCC':\n",
    "        return 'Natural Chip Co'\n",
    "    elif brand == 'Red':\n",
    "        return 'RRD'\n",
    "    elif brand == 'Smith':\n",
    "        return 'Smiths'\n",
    "    elif brand == 'Snbts':\n",
    "        return 'Sunbites'\n",
    "    elif brand == 'WW':\n",
    "        return'Woolworths'\n",
    "    else:\n",
    "        return brand\n",
    "\n",
    "\n",
    "joined_sets['Cleaned_Brand_Names'] = joined_sets.apply(lambda line: clean_brand_names(line), axis=1)"
   ]
  },
  {
   "cell_type": "code",
   "execution_count": 23,
   "metadata": {},
   "outputs": [
    {
     "data": {
      "text/plain": [
       "<matplotlib.axes._subplots.AxesSubplot at 0x27a78fbc550>"
      ]
     },
     "execution_count": 23,
     "metadata": {},
     "output_type": "execute_result"
    },
    {
     "data": {
      "image/png": "[encoded data removed]",
      "text/plain": [
       "<Figure size 720x360 with 1 Axes>"
      ]
     },
     "metadata": {
      "needs_background": "light"
     },
     "output_type": "display_data"
    }
   ],
   "source": [
    "joined_sets['Cleaned_Brand_Names'].value_counts(ascending=True).plot.barh(figsize=(10,5))"
   ]
  },
  {
   "cell_type": "code",
   "execution_count": 24,
   "metadata": {},
   "outputs": [
    {
     "data": {
      "text/plain": [
       "LYLTY_CARD_NBR         0\n",
       "LIFESTAGE              0\n",
       "PREMIUM_CUSTOMER       0\n",
       "DATE                   0\n",
       "STORE_NBR              0\n",
       "TXN_ID                 0\n",
       "PROD_NBR               0\n",
       "PROD_NAME              0\n",
       "PROD_QTY               0\n",
       "TOT_SALES              0\n",
       "Cleaned_Brand_Names    0\n",
       "dtype: int64"
      ]
     },
     "execution_count": 24,
     "metadata": {},
     "output_type": "execute_result"
    }
   ],
   "source": [
    "#check for nulls\n",
    "joined_sets.isnull().sum()"
   ]
  },
  {
   "cell_type": "code",
   "execution_count": 25,
   "metadata": {},
   "outputs": [
    {
     "data": {
      "text/html": [
       "<div>\n",
       "<style scoped>\n",
       "    .dataframe tbody tr th:only-of-type {\n",
       "        vertical-align: middle;\n",
       "    }\n",
       "\n",
       "    .dataframe tbody tr th {\n",
       "        vertical-align: top;\n",
       "    }\n",
       "\n",
       "    .dataframe thead th {\n",
       "        text-align: right;\n",
       "    }\n",
       "</style>\n",
       "<table border=\"1\" class=\"dataframe\">\n",
       "  <thead>\n",
       "    <tr style=\"text-align: right;\">\n",
       "      <th></th>\n",
       "      <th></th>\n",
       "      <th>sum</th>\n",
       "      <th>mean</th>\n",
       "    </tr>\n",
       "    <tr>\n",
       "      <th>LIFESTAGE</th>\n",
       "      <th>PREMIUM_CUSTOMER</th>\n",
       "      <th></th>\n",
       "      <th></th>\n",
       "    </tr>\n",
       "  </thead>\n",
       "  <tbody>\n",
       "    <tr>\n",
       "      <th>OLDER FAMILIES</th>\n",
       "      <th>Budget</th>\n",
       "      <td>168363.25</td>\n",
       "      <td>7.269570</td>\n",
       "    </tr>\n",
       "    <tr>\n",
       "      <th>YOUNG SINGLES/COUPLES</th>\n",
       "      <th>Mainstream</th>\n",
       "      <td>157621.60</td>\n",
       "      <td>7.558339</td>\n",
       "    </tr>\n",
       "    <tr>\n",
       "      <th>RETIREES</th>\n",
       "      <th>Mainstream</th>\n",
       "      <td>155677.05</td>\n",
       "      <td>7.252262</td>\n",
       "    </tr>\n",
       "    <tr>\n",
       "      <th>YOUNG FAMILIES</th>\n",
       "      <th>Budget</th>\n",
       "      <td>139345.85</td>\n",
       "      <td>7.287201</td>\n",
       "    </tr>\n",
       "    <tr>\n",
       "      <th rowspan=\"3\" valign=\"top\">OLDER SINGLES/COUPLES</th>\n",
       "      <th>Budget</th>\n",
       "      <td>136769.80</td>\n",
       "      <td>7.430315</td>\n",
       "    </tr>\n",
       "    <tr>\n",
       "      <th>Mainstream</th>\n",
       "      <td>133393.80</td>\n",
       "      <td>7.282116</td>\n",
       "    </tr>\n",
       "    <tr>\n",
       "      <th>Premium</th>\n",
       "      <td>132263.15</td>\n",
       "      <td>7.449766</td>\n",
       "    </tr>\n",
       "    <tr>\n",
       "      <th>RETIREES</th>\n",
       "      <th>Budget</th>\n",
       "      <td>113147.80</td>\n",
       "      <td>7.443445</td>\n",
       "    </tr>\n",
       "    <tr>\n",
       "      <th>OLDER FAMILIES</th>\n",
       "      <th>Mainstream</th>\n",
       "      <td>103445.55</td>\n",
       "      <td>7.262395</td>\n",
       "    </tr>\n",
       "    <tr>\n",
       "      <th>RETIREES</th>\n",
       "      <th>Premium</th>\n",
       "      <td>97646.05</td>\n",
       "      <td>7.456174</td>\n",
       "    </tr>\n",
       "    <tr>\n",
       "      <th>YOUNG FAMILIES</th>\n",
       "      <th>Mainstream</th>\n",
       "      <td>92788.75</td>\n",
       "      <td>7.189025</td>\n",
       "    </tr>\n",
       "    <tr>\n",
       "      <th>MIDAGE SINGLES/COUPLES</th>\n",
       "      <th>Mainstream</th>\n",
       "      <td>90803.85</td>\n",
       "      <td>7.647284</td>\n",
       "    </tr>\n",
       "    <tr>\n",
       "      <th>YOUNG FAMILIES</th>\n",
       "      <th>Premium</th>\n",
       "      <td>84025.50</td>\n",
       "      <td>7.266756</td>\n",
       "    </tr>\n",
       "    <tr>\n",
       "      <th>OLDER FAMILIES</th>\n",
       "      <th>Premium</th>\n",
       "      <td>80658.40</td>\n",
       "      <td>7.208079</td>\n",
       "    </tr>\n",
       "    <tr>\n",
       "      <th>YOUNG SINGLES/COUPLES</th>\n",
       "      <th>Budget</th>\n",
       "      <td>61141.60</td>\n",
       "      <td>6.615624</td>\n",
       "    </tr>\n",
       "    <tr>\n",
       "      <th>MIDAGE SINGLES/COUPLES</th>\n",
       "      <th>Premium</th>\n",
       "      <td>58432.65</td>\n",
       "      <td>7.112056</td>\n",
       "    </tr>\n",
       "    <tr>\n",
       "      <th>YOUNG SINGLES/COUPLES</th>\n",
       "      <th>Premium</th>\n",
       "      <td>41642.10</td>\n",
       "      <td>6.629852</td>\n",
       "    </tr>\n",
       "    <tr>\n",
       "      <th>MIDAGE SINGLES/COUPLES</th>\n",
       "      <th>Budget</th>\n",
       "      <td>35514.80</td>\n",
       "      <td>7.074661</td>\n",
       "    </tr>\n",
       "    <tr>\n",
       "      <th rowspan=\"3\" valign=\"top\">NEW FAMILIES</th>\n",
       "      <th>Budget</th>\n",
       "      <td>21928.45</td>\n",
       "      <td>7.297321</td>\n",
       "    </tr>\n",
       "    <tr>\n",
       "      <th>Mainstream</th>\n",
       "      <td>17013.90</td>\n",
       "      <td>7.317806</td>\n",
       "    </tr>\n",
       "    <tr>\n",
       "      <th>Premium</th>\n",
       "      <td>11491.10</td>\n",
       "      <td>7.231655</td>\n",
       "    </tr>\n",
       "  </tbody>\n",
       "</table>\n",
       "</div>"
      ],
      "text/plain": [
       "                                               sum      mean\n",
       "LIFESTAGE              PREMIUM_CUSTOMER                     \n",
       "OLDER FAMILIES         Budget            168363.25  7.269570\n",
       "YOUNG SINGLES/COUPLES  Mainstream        157621.60  7.558339\n",
       "RETIREES               Mainstream        155677.05  7.252262\n",
       "YOUNG FAMILIES         Budget            139345.85  7.287201\n",
       "OLDER SINGLES/COUPLES  Budget            136769.80  7.430315\n",
       "                       Mainstream        133393.80  7.282116\n",
       "                       Premium           132263.15  7.449766\n",
       "RETIREES               Budget            113147.80  7.443445\n",
       "OLDER FAMILIES         Mainstream        103445.55  7.262395\n",
       "RETIREES               Premium            97646.05  7.456174\n",
       "YOUNG FAMILIES         Mainstream         92788.75  7.189025\n",
       "MIDAGE SINGLES/COUPLES Mainstream         90803.85  7.647284\n",
       "YOUNG FAMILIES         Premium            84025.50  7.266756\n",
       "OLDER FAMILIES         Premium            80658.40  7.208079\n",
       "YOUNG SINGLES/COUPLES  Budget             61141.60  6.615624\n",
       "MIDAGE SINGLES/COUPLES Premium            58432.65  7.112056\n",
       "YOUNG SINGLES/COUPLES  Premium            41642.10  6.629852\n",
       "MIDAGE SINGLES/COUPLES Budget             35514.80  7.074661\n",
       "NEW FAMILIES           Budget             21928.45  7.297321\n",
       "                       Mainstream         17013.90  7.317806\n",
       "                       Premium            11491.10  7.231655"
      ]
     },
     "execution_count": 25,
     "metadata": {},
     "output_type": "execute_result"
    }
   ],
   "source": [
    "grouped_sales = pd.DataFrame(joined_sets.groupby(['LIFESTAGE', 'PREMIUM_CUSTOMER'])['TOT_SALES'].agg(['sum', 'mean']))\n",
    "grouped_sales.sort_values(ascending=False, by='sum')"
   ]
  },
  {
   "cell_type": "code",
   "execution_count": 26,
   "metadata": {},
   "outputs": [
    {
     "data": {
      "text/plain": [
       "<matplotlib.axes._subplots.AxesSubplot at 0x27a72714af0>"
      ]
     },
     "execution_count": 26,
     "metadata": {},
     "output_type": "execute_result"
    },
    {
     "data": {
      "image/png": "[encoded data removed]",
      "text/plain": [
       "<Figure size 864x504 with 1 Axes>"
      ]
     },
     "metadata": {
      "needs_background": "light"
     },
     "output_type": "display_data"
    }
   ],
   "source": [
    "#bar graph plotting different groups and their total money spent on chips\n",
    "grouped_sales['sum'].sort_values().plot.barh(figsize=(12,7))"
   ]
  },
  {
   "cell_type": "code",
   "execution_count": 28,
   "metadata": {},
   "outputs": [
    {
     "data": {
      "text/html": [
       "<div>\n",
       "<style scoped>\n",
       "    .dataframe tbody tr th:only-of-type {\n",
       "        vertical-align: middle;\n",
       "    }\n",
       "\n",
       "    .dataframe tbody tr th {\n",
       "        vertical-align: top;\n",
       "    }\n",
       "\n",
       "    .dataframe thead th {\n",
       "        text-align: right;\n",
       "    }\n",
       "</style>\n",
       "<table border=\"1\" class=\"dataframe\">\n",
       "  <thead>\n",
       "    <tr style=\"text-align: right;\">\n",
       "      <th></th>\n",
       "      <th></th>\n",
       "      <th>mean</th>\n",
       "      <th>count</th>\n",
       "    </tr>\n",
       "    <tr>\n",
       "      <th>LIFESTAGE</th>\n",
       "      <th>PREMIUM_CUSTOMER</th>\n",
       "      <th></th>\n",
       "      <th></th>\n",
       "    </tr>\n",
       "  </thead>\n",
       "  <tbody>\n",
       "    <tr>\n",
       "      <th rowspan=\"3\" valign=\"top\">OLDER FAMILIES</th>\n",
       "      <th>Mainstream</th>\n",
       "      <td>5.031438</td>\n",
       "      <td>2831</td>\n",
       "    </tr>\n",
       "    <tr>\n",
       "      <th>Budget</th>\n",
       "      <td>4.954011</td>\n",
       "      <td>4675</td>\n",
       "    </tr>\n",
       "    <tr>\n",
       "      <th>Premium</th>\n",
       "      <td>4.923009</td>\n",
       "      <td>2273</td>\n",
       "    </tr>\n",
       "    <tr>\n",
       "      <th rowspan=\"3\" valign=\"top\">YOUNG FAMILIES</th>\n",
       "      <th>Budget</th>\n",
       "      <td>4.760269</td>\n",
       "      <td>4017</td>\n",
       "    </tr>\n",
       "    <tr>\n",
       "      <th>Premium</th>\n",
       "      <td>4.752569</td>\n",
       "      <td>2433</td>\n",
       "    </tr>\n",
       "    <tr>\n",
       "      <th>Mainstream</th>\n",
       "      <td>4.731305</td>\n",
       "      <td>2728</td>\n",
       "    </tr>\n",
       "    <tr>\n",
       "      <th rowspan=\"3\" valign=\"top\">OLDER SINGLES/COUPLES</th>\n",
       "      <th>Premium</th>\n",
       "      <td>3.737684</td>\n",
       "      <td>4750</td>\n",
       "    </tr>\n",
       "    <tr>\n",
       "      <th>Budget</th>\n",
       "      <td>3.734429</td>\n",
       "      <td>4929</td>\n",
       "    </tr>\n",
       "    <tr>\n",
       "      <th>Mainstream</th>\n",
       "      <td>3.715619</td>\n",
       "      <td>4930</td>\n",
       "    </tr>\n",
       "    <tr>\n",
       "      <th>MIDAGE SINGLES/COUPLES</th>\n",
       "      <th>Mainstream</th>\n",
       "      <td>3.555090</td>\n",
       "      <td>3340</td>\n",
       "    </tr>\n",
       "    <tr>\n",
       "      <th rowspan=\"2\" valign=\"top\">RETIREES</th>\n",
       "      <th>Budget</th>\n",
       "      <td>3.412887</td>\n",
       "      <td>4454</td>\n",
       "    </tr>\n",
       "    <tr>\n",
       "      <th>Premium</th>\n",
       "      <td>3.382231</td>\n",
       "      <td>3872</td>\n",
       "    </tr>\n",
       "    <tr>\n",
       "      <th rowspan=\"2\" valign=\"top\">MIDAGE SINGLES/COUPLES</th>\n",
       "      <th>Premium</th>\n",
       "      <td>3.379679</td>\n",
       "      <td>2431</td>\n",
       "    </tr>\n",
       "    <tr>\n",
       "      <th>Budget</th>\n",
       "      <td>3.337766</td>\n",
       "      <td>1504</td>\n",
       "    </tr>\n",
       "    <tr>\n",
       "      <th>RETIREES</th>\n",
       "      <th>Mainstream</th>\n",
       "      <td>3.313166</td>\n",
       "      <td>6479</td>\n",
       "    </tr>\n",
       "    <tr>\n",
       "      <th rowspan=\"3\" valign=\"top\">NEW FAMILIES</th>\n",
       "      <th>Mainstream</th>\n",
       "      <td>2.738516</td>\n",
       "      <td>849</td>\n",
       "    </tr>\n",
       "    <tr>\n",
       "      <th>Premium</th>\n",
       "      <td>2.702381</td>\n",
       "      <td>588</td>\n",
       "    </tr>\n",
       "    <tr>\n",
       "      <th>Budget</th>\n",
       "      <td>2.702338</td>\n",
       "      <td>1112</td>\n",
       "    </tr>\n",
       "    <tr>\n",
       "      <th rowspan=\"3\" valign=\"top\">YOUNG SINGLES/COUPLES</th>\n",
       "      <th>Mainstream</th>\n",
       "      <td>2.578388</td>\n",
       "      <td>8088</td>\n",
       "    </tr>\n",
       "    <tr>\n",
       "      <th>Budget</th>\n",
       "      <td>2.445621</td>\n",
       "      <td>3779</td>\n",
       "    </tr>\n",
       "    <tr>\n",
       "      <th>Premium</th>\n",
       "      <td>2.440171</td>\n",
       "      <td>2574</td>\n",
       "    </tr>\n",
       "  </tbody>\n",
       "</table>\n",
       "</div>"
      ],
      "text/plain": [
       "                                             mean  count\n",
       "LIFESTAGE              PREMIUM_CUSTOMER                 \n",
       "OLDER FAMILIES         Mainstream        5.031438   2831\n",
       "                       Budget            4.954011   4675\n",
       "                       Premium           4.923009   2273\n",
       "YOUNG FAMILIES         Budget            4.760269   4017\n",
       "                       Premium           4.752569   2433\n",
       "                       Mainstream        4.731305   2728\n",
       "OLDER SINGLES/COUPLES  Premium           3.737684   4750\n",
       "                       Budget            3.734429   4929\n",
       "                       Mainstream        3.715619   4930\n",
       "MIDAGE SINGLES/COUPLES Mainstream        3.555090   3340\n",
       "RETIREES               Budget            3.412887   4454\n",
       "                       Premium           3.382231   3872\n",
       "MIDAGE SINGLES/COUPLES Premium           3.379679   2431\n",
       "                       Budget            3.337766   1504\n",
       "RETIREES               Mainstream        3.313166   6479\n",
       "NEW FAMILIES           Mainstream        2.738516    849\n",
       "                       Premium           2.702381    588\n",
       "                       Budget            2.702338   1112\n",
       "YOUNG SINGLES/COUPLES  Mainstream        2.578388   8088\n",
       "                       Budget            2.445621   3779\n",
       "                       Premium           2.440171   2574"
      ]
     },
     "execution_count": 28,
     "metadata": {},
     "output_type": "execute_result"
    }
   ],
   "source": [
    "#creates table showing average purchases per segment and unique customers per segment\n",
    "freq_per_cust = joined_sets.groupby(['LYLTY_CARD_NBR', 'LIFESTAGE', 'PREMIUM_CUSTOMER']).count()['DATE']\n",
    "freq_per_cust.groupby(['LIFESTAGE', 'PREMIUM_CUSTOMER']).agg(['mean', 'count']).sort_values(ascending=False, by='mean')"
   ]
  },
  {
   "cell_type": "code",
   "execution_count": 29,
   "metadata": {},
   "outputs": [
    {
     "data": {
      "text/html": [
       "<div>\n",
       "<style scoped>\n",
       "    .dataframe tbody tr th:only-of-type {\n",
       "        vertical-align: middle;\n",
       "    }\n",
       "\n",
       "    .dataframe tbody tr th {\n",
       "        vertical-align: top;\n",
       "    }\n",
       "\n",
       "    .dataframe thead th {\n",
       "        text-align: right;\n",
       "    }\n",
       "</style>\n",
       "<table border=\"1\" class=\"dataframe\">\n",
       "  <thead>\n",
       "    <tr style=\"text-align: right;\">\n",
       "      <th></th>\n",
       "      <th></th>\n",
       "      <th>sum</th>\n",
       "      <th>mean</th>\n",
       "    </tr>\n",
       "    <tr>\n",
       "      <th>LIFESTAGE</th>\n",
       "      <th>PREMIUM_CUSTOMER</th>\n",
       "      <th></th>\n",
       "      <th></th>\n",
       "    </tr>\n",
       "  </thead>\n",
       "  <tbody>\n",
       "    <tr>\n",
       "      <th>MIDAGE SINGLES/COUPLES</th>\n",
       "      <th>Mainstream</th>\n",
       "      <td>90803.85</td>\n",
       "      <td>7.647284</td>\n",
       "    </tr>\n",
       "    <tr>\n",
       "      <th>YOUNG SINGLES/COUPLES</th>\n",
       "      <th>Mainstream</th>\n",
       "      <td>157621.60</td>\n",
       "      <td>7.558339</td>\n",
       "    </tr>\n",
       "    <tr>\n",
       "      <th>RETIREES</th>\n",
       "      <th>Premium</th>\n",
       "      <td>97646.05</td>\n",
       "      <td>7.456174</td>\n",
       "    </tr>\n",
       "    <tr>\n",
       "      <th>OLDER SINGLES/COUPLES</th>\n",
       "      <th>Premium</th>\n",
       "      <td>132263.15</td>\n",
       "      <td>7.449766</td>\n",
       "    </tr>\n",
       "    <tr>\n",
       "      <th>RETIREES</th>\n",
       "      <th>Budget</th>\n",
       "      <td>113147.80</td>\n",
       "      <td>7.443445</td>\n",
       "    </tr>\n",
       "    <tr>\n",
       "      <th>OLDER SINGLES/COUPLES</th>\n",
       "      <th>Budget</th>\n",
       "      <td>136769.80</td>\n",
       "      <td>7.430315</td>\n",
       "    </tr>\n",
       "    <tr>\n",
       "      <th rowspan=\"2\" valign=\"top\">NEW FAMILIES</th>\n",
       "      <th>Mainstream</th>\n",
       "      <td>17013.90</td>\n",
       "      <td>7.317806</td>\n",
       "    </tr>\n",
       "    <tr>\n",
       "      <th>Budget</th>\n",
       "      <td>21928.45</td>\n",
       "      <td>7.297321</td>\n",
       "    </tr>\n",
       "    <tr>\n",
       "      <th>YOUNG FAMILIES</th>\n",
       "      <th>Budget</th>\n",
       "      <td>139345.85</td>\n",
       "      <td>7.287201</td>\n",
       "    </tr>\n",
       "    <tr>\n",
       "      <th>OLDER SINGLES/COUPLES</th>\n",
       "      <th>Mainstream</th>\n",
       "      <td>133393.80</td>\n",
       "      <td>7.282116</td>\n",
       "    </tr>\n",
       "    <tr>\n",
       "      <th>OLDER FAMILIES</th>\n",
       "      <th>Budget</th>\n",
       "      <td>168363.25</td>\n",
       "      <td>7.269570</td>\n",
       "    </tr>\n",
       "    <tr>\n",
       "      <th>YOUNG FAMILIES</th>\n",
       "      <th>Premium</th>\n",
       "      <td>84025.50</td>\n",
       "      <td>7.266756</td>\n",
       "    </tr>\n",
       "    <tr>\n",
       "      <th>OLDER FAMILIES</th>\n",
       "      <th>Mainstream</th>\n",
       "      <td>103445.55</td>\n",
       "      <td>7.262395</td>\n",
       "    </tr>\n",
       "    <tr>\n",
       "      <th>RETIREES</th>\n",
       "      <th>Mainstream</th>\n",
       "      <td>155677.05</td>\n",
       "      <td>7.252262</td>\n",
       "    </tr>\n",
       "    <tr>\n",
       "      <th>NEW FAMILIES</th>\n",
       "      <th>Premium</th>\n",
       "      <td>11491.10</td>\n",
       "      <td>7.231655</td>\n",
       "    </tr>\n",
       "    <tr>\n",
       "      <th>OLDER FAMILIES</th>\n",
       "      <th>Premium</th>\n",
       "      <td>80658.40</td>\n",
       "      <td>7.208079</td>\n",
       "    </tr>\n",
       "    <tr>\n",
       "      <th>YOUNG FAMILIES</th>\n",
       "      <th>Mainstream</th>\n",
       "      <td>92788.75</td>\n",
       "      <td>7.189025</td>\n",
       "    </tr>\n",
       "    <tr>\n",
       "      <th rowspan=\"2\" valign=\"top\">MIDAGE SINGLES/COUPLES</th>\n",
       "      <th>Premium</th>\n",
       "      <td>58432.65</td>\n",
       "      <td>7.112056</td>\n",
       "    </tr>\n",
       "    <tr>\n",
       "      <th>Budget</th>\n",
       "      <td>35514.80</td>\n",
       "      <td>7.074661</td>\n",
       "    </tr>\n",
       "    <tr>\n",
       "      <th rowspan=\"2\" valign=\"top\">YOUNG SINGLES/COUPLES</th>\n",
       "      <th>Premium</th>\n",
       "      <td>41642.10</td>\n",
       "      <td>6.629852</td>\n",
       "    </tr>\n",
       "    <tr>\n",
       "      <th>Budget</th>\n",
       "      <td>61141.60</td>\n",
       "      <td>6.615624</td>\n",
       "    </tr>\n",
       "  </tbody>\n",
       "</table>\n",
       "</div>"
      ],
      "text/plain": [
       "                                               sum      mean\n",
       "LIFESTAGE              PREMIUM_CUSTOMER                     \n",
       "MIDAGE SINGLES/COUPLES Mainstream         90803.85  7.647284\n",
       "YOUNG SINGLES/COUPLES  Mainstream        157621.60  7.558339\n",
       "RETIREES               Premium            97646.05  7.456174\n",
       "OLDER SINGLES/COUPLES  Premium           132263.15  7.449766\n",
       "RETIREES               Budget            113147.80  7.443445\n",
       "OLDER SINGLES/COUPLES  Budget            136769.80  7.430315\n",
       "NEW FAMILIES           Mainstream         17013.90  7.317806\n",
       "                       Budget             21928.45  7.297321\n",
       "YOUNG FAMILIES         Budget            139345.85  7.287201\n",
       "OLDER SINGLES/COUPLES  Mainstream        133393.80  7.282116\n",
       "OLDER FAMILIES         Budget            168363.25  7.269570\n",
       "YOUNG FAMILIES         Premium            84025.50  7.266756\n",
       "OLDER FAMILIES         Mainstream        103445.55  7.262395\n",
       "RETIREES               Mainstream        155677.05  7.252262\n",
       "NEW FAMILIES           Premium            11491.10  7.231655\n",
       "OLDER FAMILIES         Premium            80658.40  7.208079\n",
       "YOUNG FAMILIES         Mainstream         92788.75  7.189025\n",
       "MIDAGE SINGLES/COUPLES Premium            58432.65  7.112056\n",
       "                       Budget             35514.80  7.074661\n",
       "YOUNG SINGLES/COUPLES  Premium            41642.10  6.629852\n",
       "                       Budget             61141.60  6.615624"
      ]
     },
     "execution_count": 29,
     "metadata": {},
     "output_type": "execute_result"
    }
   ],
   "source": [
    "grouped_sales.sort_values(ascending=False, by='mean')"
   ]
  },
  {
   "cell_type": "code",
   "execution_count": 59,
   "metadata": {},
   "outputs": [
    {
     "name": "stdout",
     "output_type": "stream",
     "text": [
      "Index(['MIDAGE SINGLES/COUPLES', 'NEW FAMILIES', 'OLDER FAMILIES',\n",
      "       'OLDER SINGLES/COUPLES', 'RETIREES', 'YOUNG FAMILIES',\n",
      "       'YOUNG SINGLES/COUPLES'],\n",
      "      dtype='object', name='LIFESTAGE')\n"
     ]
    },
    {
     "data": {
      "image/png": "[encoded data removed]",
      "text/plain": [
       "<Figure size 720x504 with 1 Axes>"
      ]
     },
     "metadata": {
      "needs_background": "light"
     },
     "output_type": "display_data"
    }
   ],
   "source": [
    "from matplotlib import rc\n",
    "\n",
    "rc('font', weight='bold')\n",
    "\n",
    "bars1 = grouped_sales[grouped_sales.index.get_level_values('PREMIUM_CUSTOMER') == 'Budget']['sum']\n",
    "bars2 = grouped_sales[grouped_sales.index.get_level_values('PREMIUM_CUSTOMER') == 'Mainstream']['sum']\n",
    "bars3 = grouped_sales[grouped_sales.index.get_level_values('PREMIUM_CUSTOMER') == 'Premium']['sum']\n",
    "\n",
    "bar1_array = np.array(bars1)\n",
    "bar2_array = np.array(bars2)\n",
    "bar3_array = np.array(bars3)\n",
    "\n",
    "all_bars = []\n",
    "\n",
    "# Names of group and bar width\n",
    "names = grouped_sales.index.get_level_values(\"LIFESTAGE\").unique()\n",
    "print(names)\n",
    "\n",
    "colors = ['#FE2D00', '#0006FE','#58C419']\n",
    "\n",
    "# The position of the bars on the x-axis\n",
    "r = np.arange(len(names))\n",
    "\n",
    "bar_height = 1\n",
    "#plot bars\n",
    "plt.figure(figsize=(10,7))\n",
    "plt.barh(r, bar1_array, color=colors[0], edgecolor='white', height=bar_height, label = 'Budget')\n",
    "plt.barh(r, bar2_array, left=bar1_array, color=colors[1], edgecolor='white', height=bar_height, label = 'Mainstream')\n",
    "plt.barh(r, bar3_array, left=bar1_array + bar2_array, color=colors[2], edgecolor='white', height=bar_height, label = 'Premium')\n",
    "\n",
    "plt.yticks(r, names)\n",
    "plt.ylabel('LIFESTAGE')\n",
    "plt.xlabel('TOTAL SALES')\n",
    "plt.legend()\n",
    "plt.savefig('lifestage_sales.png', bbox_inches=\"tight\")\n",
    "\n",
    "\n",
    "    "
   ]
  },
  {
   "cell_type": "code",
   "execution_count": 29,
   "metadata": {},
   "outputs": [
    {
     "name": "stdout",
     "output_type": "stream",
     "text": [
      "1.8346459081778177e-237\n"
     ]
    },
    {
     "data": {
      "text/plain": [
       "True"
      ]
     },
     "execution_count": 29,
     "metadata": {},
     "output_type": "execute_result"
    }
   ],
   "source": [
    "#running t test to find if There is a statistically significant difference to the Total Sales between the \"Mainstream Young Midage\" segment to the \"Budget and Premium Young Midage\n",
    "\n",
    "from scipy.stats import ttest_ind\n",
    "\n",
    "mainstream = joined_sets['PREMIUM_CUSTOMER'] == 'Mainstream'\n",
    "young_midage = (joined_sets['LIFESTAGE'] == 'MIDAGE SINGLES/COUPLES') | (joined_sets['LIFESTAGE'] == 'YOUNG SINGLES/COUPLES')\n",
    "\n",
    "budget_premium = (joined_sets['PREMIUM_CUSTOMER'] == 'Budget') | (joined_sets['PREMIUM_CUSTOMER'] == 'Premium')\n",
    "\n",
    "a = joined_sets[young_midage & mainstream]['TOT_SALES']\n",
    "b = joined_sets[young_midage & budget_premium]['TOT_SALES']\n",
    "stat, pval = ttest_ind(a.values, b.values, equal_var=False)\n",
    "\n",
    "print(pval)\n",
    "pval < 0.0000001"
   ]
  },
  {
   "cell_type": "code",
   "execution_count": 30,
   "metadata": {},
   "outputs": [
    {
     "name": "stdout",
     "output_type": "stream",
     "text": [
      "___________ YOUNG SINGLES/COUPLES - Premium ___________\n",
      "Kettle      838\n",
      "Smiths      787\n",
      "Pringles    537\n",
      "Name: Cleaned_Brand_Names, dtype: int64\n"
     ]
    },
    {
     "data": {
      "image/png": "[encoded data removed]",
      "text/plain": [
       "<Figure size 432x72 with 1 Axes>"
      ]
     },
     "metadata": {
      "needs_background": "light"
     },
     "output_type": "display_data"
    },
    {
     "name": "stdout",
     "output_type": "stream",
     "text": [
      "___________ YOUNG SINGLES/COUPLES - Mainstream ___________\n",
      "Kettle      3844\n",
      "Doritos     2379\n",
      "Pringles    2315\n",
      "Name: Cleaned_Brand_Names, dtype: int64\n"
     ]
    },
    {
     "data": {
      "image/png": "[encoded data removed]",
      "text/plain": [
       "<Figure size 432x72 with 1 Axes>"
      ]
     },
     "metadata": {
      "needs_background": "light"
     },
     "output_type": "display_data"
    },
    {
     "name": "stdout",
     "output_type": "stream",
     "text": [
      "___________ YOUNG SINGLES/COUPLES - Budget ___________\n",
      "Kettle      1211\n",
      "Smiths      1185\n",
      "Pringles     832\n",
      "Name: Cleaned_Brand_Names, dtype: int64\n"
     ]
    },
    {
     "data": {
      "image/png": "[encoded data removed]",
      "text/plain": [
       "<Figure size 432x72 with 1 Axes>"
      ]
     },
     "metadata": {
      "needs_background": "light"
     },
     "output_type": "display_data"
    },
    {
     "name": "stdout",
     "output_type": "stream",
     "text": [
      "___________ YOUNG FAMILIES - Premium ___________\n",
      "Kettle      1745\n",
      "Smiths      1384\n",
      "Pringles    1007\n",
      "Name: Cleaned_Brand_Names, dtype: int64\n"
     ]
    },
    {
     "data": {
      "image/png": "[encoded data removed]",
      "text/plain": [
       "<Figure size 432x72 with 1 Axes>"
      ]
     },
     "metadata": {
      "needs_background": "light"
     },
     "output_type": "display_data"
    },
    {
     "name": "stdout",
     "output_type": "stream",
     "text": [
      "___________ YOUNG FAMILIES - Mainstream ___________\n",
      "Kettle      1789\n",
      "Smiths      1681\n",
      "Pringles    1148\n",
      "Name: Cleaned_Brand_Names, dtype: int64\n"
     ]
    },
    {
     "data": {
      "image/png": "[encoded data removed]",
      "text/plain": [
       "<Figure size 432x72 with 1 Axes>"
      ]
     },
     "metadata": {
      "needs_background": "light"
     },
     "output_type": "display_data"
    },
    {
     "name": "stdout",
     "output_type": "stream",
     "text": [
      "___________ YOUNG FAMILIES - Budget ___________\n",
      "Kettle     2743\n",
      "Smiths     2334\n",
      "Doritos    1767\n",
      "Name: Cleaned_Brand_Names, dtype: int64\n"
     ]
    },
    {
     "data": {
      "image/png": "[encoded data removed]",
      "text/plain": [
       "<Figure size 432x72 with 1 Axes>"
      ]
     },
     "metadata": {
      "needs_background": "light"
     },
     "output_type": "display_data"
    },
    {
     "name": "stdout",
     "output_type": "stream",
     "text": [
      "___________ OLDER SINGLES/COUPLES - Premium ___________\n",
      "Kettle     2947\n",
      "Smiths     1952\n",
      "Doritos    1784\n",
      "Name: Cleaned_Brand_Names, dtype: int64\n"
     ]
    },
    {
     "data": {
      "image/png": "[encoded data removed]",
      "text/plain": [
       "<Figure size 432x72 with 1 Axes>"
      ]
     },
     "metadata": {
      "needs_background": "light"
     },
     "output_type": "display_data"
    },
    {
     "name": "stdout",
     "output_type": "stream",
     "text": [
      "___________ OLDER SINGLES/COUPLES - Mainstream ___________\n",
      "Kettle     2835\n",
      "Smiths     2070\n",
      "Doritos    1791\n",
      "Name: Cleaned_Brand_Names, dtype: int64\n"
     ]
    },
    {
     "data": {
      "image/png": "[encoded data removed]",
      "text/plain": [
       "<Figure size 432x72 with 1 Axes>"
      ]
     },
     "metadata": {
      "needs_background": "light"
     },
     "output_type": "display_data"
    },
    {
     "name": "stdout",
     "output_type": "stream",
     "text": [
      "___________ OLDER SINGLES/COUPLES - Budget ___________\n",
      "Kettle      3065\n",
      "Smiths      2010\n",
      "Pringles    1843\n",
      "Name: Cleaned_Brand_Names, dtype: int64\n"
     ]
    },
    {
     "data": {
      "image/png": "[encoded data removed]",
      "text/plain": [
       "<Figure size 432x72 with 1 Axes>"
      ]
     },
     "metadata": {
      "needs_background": "light"
     },
     "output_type": "display_data"
    },
    {
     "name": "stdout",
     "output_type": "stream",
     "text": [
      "___________ MIDAGE SINGLES/COUPLES - Premium ___________\n",
      "Kettle      1206\n",
      "Smiths       923\n",
      "Pringles     781\n",
      "Name: Cleaned_Brand_Names, dtype: int64\n"
     ]
    },
    {
     "data": {
      "image/png": "[encoded data removed]",
      "text/plain": [
       "<Figure size 432x72 with 1 Axes>"
      ]
     },
     "metadata": {
      "needs_background": "light"
     },
     "output_type": "display_data"
    },
    {
     "name": "stdout",
     "output_type": "stream",
     "text": [
      "___________ MIDAGE SINGLES/COUPLES - Mainstream ___________\n",
      "Kettle     2136\n",
      "Smiths     1276\n",
      "Doritos    1210\n",
      "Name: Cleaned_Brand_Names, dtype: int64\n"
     ]
    },
    {
     "data": {
      "image/png": "[encoded data removed]",
      "text/plain": [
       "<Figure size 432x72 with 1 Axes>"
      ]
     },
     "metadata": {
      "needs_background": "light"
     },
     "output_type": "display_data"
    },
    {
     "name": "stdout",
     "output_type": "stream",
     "text": [
      "___________ MIDAGE SINGLES/COUPLES - Budget ___________\n",
      "Kettle     713\n",
      "Smiths     591\n",
      "Doritos    479\n",
      "Name: Cleaned_Brand_Names, dtype: int64\n"
     ]
    },
    {
     "data": {
      "image/png": "[encoded data removed]",
      "text/plain": [
       "<Figure size 432x72 with 1 Axes>"
      ]
     },
     "metadata": {
      "needs_background": "light"
     },
     "output_type": "display_data"
    },
    {
     "name": "stdout",
     "output_type": "stream",
     "text": [
      "___________ NEW FAMILIES - Premium ___________\n",
      "Kettle      247\n",
      "Pringles    165\n",
      "Smiths      155\n",
      "Name: Cleaned_Brand_Names, dtype: int64\n"
     ]
    },
    {
     "data": {
      "image/png": "[encoded data removed]",
      "text/plain": [
       "<Figure size 432x72 with 1 Axes>"
      ]
     },
     "metadata": {
      "needs_background": "light"
     },
     "output_type": "display_data"
    },
    {
     "name": "stdout",
     "output_type": "stream",
     "text": [
      "___________ NEW FAMILIES - Mainstream ___________\n",
      "Kettle     414\n",
      "Doritos    257\n",
      "Smiths     244\n",
      "Name: Cleaned_Brand_Names, dtype: int64\n"
     ]
    },
    {
     "data": {
      "image/png": "[encoded data removed]",
      "text/plain": [
       "<Figure size 432x72 with 1 Axes>"
      ]
     },
     "metadata": {
      "needs_background": "light"
     },
     "output_type": "display_data"
    },
    {
     "name": "stdout",
     "output_type": "stream",
     "text": [
      "___________ NEW FAMILIES - Budget ___________\n",
      "Kettle     510\n",
      "Smiths     328\n",
      "Doritos    315\n",
      "Name: Cleaned_Brand_Names, dtype: int64\n"
     ]
    },
    {
     "data": {
      "image/png": "[encoded data removed]",
      "text/plain": [
       "<Figure size 432x72 with 1 Axes>"
      ]
     },
     "metadata": {
      "needs_background": "light"
     },
     "output_type": "display_data"
    },
    {
     "name": "stdout",
     "output_type": "stream",
     "text": [
      "___________ OLDER FAMILIES - Premium ___________\n",
      "Kettle      1512\n",
      "Smiths      1448\n",
      "Pringles    1014\n",
      "Name: Cleaned_Brand_Names, dtype: int64\n"
     ]
    },
    {
     "data": {
      "image/png": "[encoded data removed]",
      "text/plain": [
       "<Figure size 432x72 with 1 Axes>"
      ]
     },
     "metadata": {
      "needs_background": "light"
     },
     "output_type": "display_data"
    },
    {
     "name": "stdout",
     "output_type": "stream",
     "text": [
      "___________ OLDER FAMILIES - Mainstream ___________\n",
      "Kettle     2019\n",
      "Smiths     1742\n",
      "Doritos    1263\n",
      "Name: Cleaned_Brand_Names, dtype: int64\n"
     ]
    },
    {
     "data": {
      "image/png": "[encoded data removed]",
      "text/plain": [
       "<Figure size 432x72 with 1 Axes>"
      ]
     },
     "metadata": {
      "needs_background": "light"
     },
     "output_type": "display_data"
    },
    {
     "name": "stdout",
     "output_type": "stream",
     "text": [
      "___________ OLDER FAMILIES - Budget ___________\n",
      "Kettle     3320\n",
      "Smiths     2948\n",
      "Doritos    2032\n",
      "Name: Cleaned_Brand_Names, dtype: int64\n"
     ]
    },
    {
     "data": {
      "image/png": "[encoded data removed]",
      "text/plain": [
       "<Figure size 432x72 with 1 Axes>"
      ]
     },
     "metadata": {
      "needs_background": "light"
     },
     "output_type": "display_data"
    },
    {
     "name": "stdout",
     "output_type": "stream",
     "text": [
      "___________ RETIREES - Premium ___________\n",
      "Kettle      2216\n",
      "Smiths      1395\n",
      "Pringles    1331\n",
      "Name: Cleaned_Brand_Names, dtype: int64\n"
     ]
    },
    {
     "data": {
      "image/png": "[encoded data removed]",
      "text/plain": [
       "<Figure size 432x72 with 1 Axes>"
      ]
     },
     "metadata": {
      "needs_background": "light"
     },
     "output_type": "display_data"
    },
    {
     "name": "stdout",
     "output_type": "stream",
     "text": [
      "___________ RETIREES - Mainstream ___________\n",
      "Kettle      3386\n",
      "Smiths      2367\n",
      "Pringles    2103\n",
      "Name: Cleaned_Brand_Names, dtype: int64\n"
     ]
    },
    {
     "data": {
      "image/png": "[encoded data removed]",
      "text/plain": [
       "<Figure size 432x72 with 1 Axes>"
      ]
     },
     "metadata": {
      "needs_background": "light"
     },
     "output_type": "display_data"
    },
    {
     "name": "stdout",
     "output_type": "stream",
     "text": [
      "___________ RETIREES - Budget ___________\n",
      "Kettle     2592\n",
      "Smiths     1612\n",
      "Doritos    1592\n",
      "Name: Cleaned_Brand_Names, dtype: int64\n"
     ]
    },
    {
     "data": {
      "image/png": "[encoded data removed]",
      "text/plain": [
       "<Figure size 432x72 with 1 Axes>"
      ]
     },
     "metadata": {
      "needs_background": "light"
     },
     "output_type": "display_data"
    }
   ],
   "source": [
    "## plots showing what brands are the favorites amongst the top three segments that spend the most \n",
    "\n",
    "for stage in joined_sets['LIFESTAGE'].unique(): #going through the various life stages\n",
    "    for prem in joined_sets['PREMIUM_CUSTOMER'].unique(): #budget, premium, and mainstream\n",
    "        print('___________',stage, '-', prem,'___________') #artistic border to seperate graphs\n",
    "        summary = joined_sets[(joined_sets[\"LIFESTAGE\"] == stage) & (joined_sets[\"PREMIUM_CUSTOMER\"] == prem)][\"Cleaned_Brand_Names\"].value_counts().head(3) #list containing purchase counts for the top three brands\n",
    "        print(summary)\n",
    "        plt.figure()\n",
    "        summary.plot.barh(figsize=(6,1))\n",
    "        plt.xlabel('Units Purchased')\n",
    "        plt.show()"
   ]
  },
  {
   "cell_type": "code",
   "execution_count": 35,
   "metadata": {},
   "outputs": [
    {
     "data": {
      "text/html": [
       "<div>\n",
       "<style scoped>\n",
       "    .dataframe tbody tr th:only-of-type {\n",
       "        vertical-align: middle;\n",
       "    }\n",
       "\n",
       "    .dataframe tbody tr th {\n",
       "        vertical-align: top;\n",
       "    }\n",
       "\n",
       "    .dataframe thead th {\n",
       "        text-align: right;\n",
       "    }\n",
       "</style>\n",
       "<table border=\"1\" class=\"dataframe\">\n",
       "  <thead>\n",
       "    <tr style=\"text-align: right;\">\n",
       "      <th></th>\n",
       "      <th>antecedents</th>\n",
       "      <th>consequents</th>\n",
       "      <th>antecedent support</th>\n",
       "      <th>consequent support</th>\n",
       "      <th>support</th>\n",
       "      <th>confidence</th>\n",
       "      <th>lift</th>\n",
       "      <th>leverage</th>\n",
       "      <th>conviction</th>\n",
       "    </tr>\n",
       "  </thead>\n",
       "  <tbody>\n",
       "    <tr>\n",
       "      <th>0</th>\n",
       "      <td>(OLDER FAMILIES - Budget)</td>\n",
       "      <td>(Smiths)</td>\n",
       "      <td>0.087193</td>\n",
       "      <td>0.123016</td>\n",
       "      <td>0.011948</td>\n",
       "      <td>0.137027</td>\n",
       "      <td>1.113895</td>\n",
       "      <td>0.001222</td>\n",
       "      <td>1.016236</td>\n",
       "    </tr>\n",
       "    <tr>\n",
       "      <th>3</th>\n",
       "      <td>(OLDER SINGLES/COUPLES - Budget)</td>\n",
       "      <td>(Kettle)</td>\n",
       "      <td>0.069596</td>\n",
       "      <td>0.167334</td>\n",
       "      <td>0.012422</td>\n",
       "      <td>0.178488</td>\n",
       "      <td>1.066658</td>\n",
       "      <td>0.000776</td>\n",
       "      <td>1.013578</td>\n",
       "    </tr>\n",
       "    <tr>\n",
       "      <th>4</th>\n",
       "      <td>(OLDER SINGLES/COUPLES - Premium)</td>\n",
       "      <td>(Kettle)</td>\n",
       "      <td>0.067115</td>\n",
       "      <td>0.167334</td>\n",
       "      <td>0.011944</td>\n",
       "      <td>0.177959</td>\n",
       "      <td>1.063495</td>\n",
       "      <td>0.000713</td>\n",
       "      <td>1.012925</td>\n",
       "    </tr>\n",
       "    <tr>\n",
       "      <th>6</th>\n",
       "      <td>(RETIREES - Budget)</td>\n",
       "      <td>(Kettle)</td>\n",
       "      <td>0.057652</td>\n",
       "      <td>0.167334</td>\n",
       "      <td>0.010505</td>\n",
       "      <td>0.182214</td>\n",
       "      <td>1.088926</td>\n",
       "      <td>0.000858</td>\n",
       "      <td>1.018196</td>\n",
       "    </tr>\n",
       "    <tr>\n",
       "      <th>9</th>\n",
       "      <td>(RETIREES - Mainstream)</td>\n",
       "      <td>(Kettle)</td>\n",
       "      <td>0.080935</td>\n",
       "      <td>0.167334</td>\n",
       "      <td>0.013723</td>\n",
       "      <td>0.169554</td>\n",
       "      <td>1.013269</td>\n",
       "      <td>0.000180</td>\n",
       "      <td>1.002674</td>\n",
       "    </tr>\n",
       "    <tr>\n",
       "      <th>10</th>\n",
       "      <td>(YOUNG SINGLES/COUPLES - Mainstream)</td>\n",
       "      <td>(Kettle)</td>\n",
       "      <td>0.079209</td>\n",
       "      <td>0.167334</td>\n",
       "      <td>0.015579</td>\n",
       "      <td>0.196684</td>\n",
       "      <td>1.175400</td>\n",
       "      <td>0.002325</td>\n",
       "      <td>1.036537</td>\n",
       "    </tr>\n",
       "  </tbody>\n",
       "</table>\n",
       "</div>"
      ],
      "text/plain": [
       "                             antecedents consequents  antecedent support  \\\n",
       "0              (OLDER FAMILIES - Budget)    (Smiths)            0.087193   \n",
       "3       (OLDER SINGLES/COUPLES - Budget)    (Kettle)            0.069596   \n",
       "4      (OLDER SINGLES/COUPLES - Premium)    (Kettle)            0.067115   \n",
       "6                    (RETIREES - Budget)    (Kettle)            0.057652   \n",
       "9                (RETIREES - Mainstream)    (Kettle)            0.080935   \n",
       "10  (YOUNG SINGLES/COUPLES - Mainstream)    (Kettle)            0.079209   \n",
       "\n",
       "    consequent support   support  confidence      lift  leverage  conviction  \n",
       "0             0.123016  0.011948    0.137027  1.113895  0.001222    1.016236  \n",
       "3             0.167334  0.012422    0.178488  1.066658  0.000776    1.013578  \n",
       "4             0.167334  0.011944    0.177959  1.063495  0.000713    1.012925  \n",
       "6             0.167334  0.010505    0.182214  1.088926  0.000858    1.018196  \n",
       "9             0.167334  0.013723    0.169554  1.013269  0.000180    1.002674  \n",
       "10            0.167334  0.015579    0.196684  1.175400  0.002325    1.036537  "
      ]
     },
     "execution_count": 35,
     "metadata": {},
     "output_type": "execute_result"
    }
   ],
   "source": [
    "#using apriori algorithm to test for spending patterns amongst different demographics\n",
    "\n",
    "from mlxtend.frequent_patterns import apriori\n",
    "from mlxtend.frequent_patterns import association_rules\n",
    "\n",
    "temp = joined_sets.reset_index().rename(columns = {'index': 'transaction'})\n",
    "temp['Segment'] = temp['LIFESTAGE'] + ' - ' + temp['PREMIUM_CUSTOMER']\n",
    "segment_brand_encode = pd.concat([pd.get_dummies(temp['Segment']), pd.get_dummies(temp['Cleaned_Brand_Names'])], axis=1)\n",
    "\n",
    "\n",
    "apriori_analysis = apriori(segment_brand_encode, min_support=0.01, use_colnames=True)\n",
    "buisness_rules = association_rules(apriori_analysis, metric='lift', min_threshold=1)\n",
    "\n",
    "set_temp = temp['Segment'].unique()\n",
    "buisness_rules[buisness_rules['antecedents'].apply(lambda x: list(x)).apply(lambda x: x in set_temp)]"
   ]
  },
  {
   "cell_type": "code",
   "execution_count": 40,
   "metadata": {},
   "outputs": [
    {
     "name": "stdout",
     "output_type": "stream",
     "text": [
      "========== YOUNG SINGLES/COUPLES - Premium ==========\n",
      "134.0     537\n",
      "150.0     896\n",
      "175.0    1587\n",
      "Name: Pack_Size, dtype: int64\n"
     ]
    },
    {
     "data": {
      "image/png": "[encoded data removed]",
      "text/plain": [
       "<Figure size 360x72 with 1 Axes>"
      ]
     },
     "metadata": {
      "needs_background": "light"
     },
     "output_type": "display_data"
    },
    {
     "name": "stdout",
     "output_type": "stream",
     "text": [
      "========== YOUNG SINGLES/COUPLES - Mainstream ==========\n",
      "134.0    2315\n",
      "150.0    2998\n",
      "175.0    4928\n",
      "Name: Pack_Size, dtype: int64\n"
     ]
    },
    {
     "data": {
      "image/png": "[encoded data removed]",
      "text/plain": [
       "<Figure size 360x72 with 1 Axes>"
      ]
     },
     "metadata": {
      "needs_background": "light"
     },
     "output_type": "display_data"
    },
    {
     "name": "stdout",
     "output_type": "stream",
     "text": [
      "========== YOUNG SINGLES/COUPLES - Budget ==========\n",
      "134.0     832\n",
      "150.0    1325\n",
      "175.0    2262\n",
      "Name: Pack_Size, dtype: int64\n"
     ]
    },
    {
     "data": {
      "image/png": "[encoded data removed]",
      "text/plain": [
       "<Figure size 360x72 with 1 Axes>"
      ]
     },
     "metadata": {
      "needs_background": "light"
     },
     "output_type": "display_data"
    },
    {
     "name": "stdout",
     "output_type": "stream",
     "text": [
      "========== YOUNG FAMILIES - Premium ==========\n",
      "134.0    1007\n",
      "150.0    1697\n",
      "175.0    2926\n",
      "Name: Pack_Size, dtype: int64\n"
     ]
    },
    {
     "data": {
      "image/png": "[encoded data removed]",
      "text/plain": [
       "<Figure size 360x72 with 1 Axes>"
      ]
     },
     "metadata": {
      "needs_background": "light"
     },
     "output_type": "display_data"
    },
    {
     "name": "stdout",
     "output_type": "stream",
     "text": [
      "========== YOUNG FAMILIES - Mainstream ==========\n",
      "134.0    1148\n",
      "150.0    1927\n",
      "175.0    3087\n",
      "Name: Pack_Size, dtype: int64\n"
     ]
    },
    {
     "data": {
      "image/png": "[encoded data removed]",
      "text/plain": [
       "<Figure size 360x72 with 1 Axes>"
      ]
     },
     "metadata": {
      "needs_background": "light"
     },
     "output_type": "display_data"
    },
    {
     "name": "stdout",
     "output_type": "stream",
     "text": [
      "========== YOUNG FAMILIES - Budget ==========\n",
      "134.0    1674\n",
      "150.0    2749\n",
      "175.0    4800\n",
      "Name: Pack_Size, dtype: int64\n"
     ]
    },
    {
     "data": {
      "image/png": "[encoded data removed]",
      "text/plain": [
       "<Figure size 360x72 with 1 Axes>"
      ]
     },
     "metadata": {
      "needs_background": "light"
     },
     "output_type": "display_data"
    },
    {
     "name": "stdout",
     "output_type": "stream",
     "text": [
      "========== OLDER SINGLES/COUPLES - Premium ==========\n",
      "134.0    1744\n",
      "150.0    2672\n",
      "175.0    4382\n",
      "Name: Pack_Size, dtype: int64\n"
     ]
    },
    {
     "data": {
      "image/png": "[encoded data removed]",
      "text/plain": [
       "<Figure size 360x72 with 1 Axes>"
      ]
     },
     "metadata": {
      "needs_background": "light"
     },
     "output_type": "display_data"
    },
    {
     "name": "stdout",
     "output_type": "stream",
     "text": [
      "========== OLDER SINGLES/COUPLES - Mainstream ==========\n",
      "134.0    1720\n",
      "150.0    2660\n",
      "175.0    4422\n",
      "Name: Pack_Size, dtype: int64\n"
     ]
    },
    {
     "data": {
      "image/png": "[encoded data removed]",
      "text/plain": [
       "<Figure size 360x72 with 1 Axes>"
      ]
     },
     "metadata": {
      "needs_background": "light"
     },
     "output_type": "display_data"
    },
    {
     "name": "stdout",
     "output_type": "stream",
     "text": [
      "========== OLDER SINGLES/COUPLES - Budget ==========\n",
      "134.0    1843\n",
      "150.0    2726\n",
      "175.0    4535\n",
      "Name: Pack_Size, dtype: int64\n"
     ]
    },
    {
     "data": {
      "image/png": "[encoded data removed]",
      "text/plain": [
       "<Figure size 360x72 with 1 Axes>"
      ]
     },
     "metadata": {
      "needs_background": "light"
     },
     "output_type": "display_data"
    },
    {
     "name": "stdout",
     "output_type": "stream",
     "text": [
      "========== MIDAGE SINGLES/COUPLES - Premium ==========\n",
      "134.0     781\n",
      "150.0    1163\n",
      "175.0    2034\n",
      "Name: Pack_Size, dtype: int64\n"
     ]
    },
    {
     "data": {
      "image/png": "[encoded data removed]",
      "text/plain": [
       "<Figure size 360x72 with 1 Axes>"
      ]
     },
     "metadata": {
      "needs_background": "light"
     },
     "output_type": "display_data"
    },
    {
     "name": "stdout",
     "output_type": "stream",
     "text": [
      "========== MIDAGE SINGLES/COUPLES - Mainstream ==========\n",
      "134.0    1159\n",
      "150.0    1714\n",
      "175.0    2912\n",
      "Name: Pack_Size, dtype: int64\n"
     ]
    },
    {
     "data": {
      "image/png": "[encoded data removed]",
      "text/plain": [
       "<Figure size 360x72 with 1 Axes>"
      ]
     },
     "metadata": {
      "needs_background": "light"
     },
     "output_type": "display_data"
    },
    {
     "name": "stdout",
     "output_type": "stream",
     "text": [
      "========== MIDAGE SINGLES/COUPLES - Budget ==========\n",
      "134.0     449\n",
      "150.0     746\n",
      "175.0    1256\n",
      "Name: Pack_Size, dtype: int64\n"
     ]
    },
    {
     "data": {
      "image/png": "[encoded data removed]",
      "text/plain": [
       "<Figure size 360x72 with 1 Axes>"
      ]
     },
     "metadata": {
      "needs_background": "light"
     },
     "output_type": "display_data"
    },
    {
     "name": "stdout",
     "output_type": "stream",
     "text": [
      "========== NEW FAMILIES - Premium ==========\n",
      "134.0    165\n",
      "150.0    225\n",
      "175.0    371\n",
      "Name: Pack_Size, dtype: int64\n"
     ]
    },
    {
     "data": {
      "image/png": "[encoded data removed]",
      "text/plain": [
       "<Figure size 360x72 with 1 Axes>"
      ]
     },
     "metadata": {
      "needs_background": "light"
     },
     "output_type": "display_data"
    },
    {
     "name": "stdout",
     "output_type": "stream",
     "text": [
      "========== NEW FAMILIES - Mainstream ==========\n",
      "134.0    224\n",
      "150.0    362\n",
      "175.0    579\n",
      "Name: Pack_Size, dtype: int64\n"
     ]
    },
    {
     "data": {
      "image/png": "[encoded data removed]",
      "text/plain": [
       "<Figure size 360x72 with 1 Axes>"
      ]
     },
     "metadata": {
      "needs_background": "light"
     },
     "output_type": "display_data"
    },
    {
     "name": "stdout",
     "output_type": "stream",
     "text": [
      "========== NEW FAMILIES - Budget ==========\n",
      "134.0    309\n",
      "150.0    425\n",
      "175.0    763\n",
      "Name: Pack_Size, dtype: int64\n"
     ]
    },
    {
     "data": {
      "image/png": "[encoded data removed]",
      "text/plain": [
       "<Figure size 360x72 with 1 Axes>"
      ]
     },
     "metadata": {
      "needs_background": "light"
     },
     "output_type": "display_data"
    },
    {
     "name": "stdout",
     "output_type": "stream",
     "text": [
      "========== OLDER FAMILIES - Premium ==========\n",
      "134.0    1014\n",
      "150.0    1607\n",
      "175.0    2747\n",
      "Name: Pack_Size, dtype: int64\n"
     ]
    },
    {
     "data": {
      "image/png": "[encoded data removed]",
      "text/plain": [
       "<Figure size 360x72 with 1 Axes>"
      ]
     },
     "metadata": {
      "needs_background": "light"
     },
     "output_type": "display_data"
    },
    {
     "name": "stdout",
     "output_type": "stream",
     "text": [
      "========== OLDER FAMILIES - Mainstream ==========\n",
      "134.0    1234\n",
      "150.0    2091\n",
      "175.0    3489\n",
      "Name: Pack_Size, dtype: int64\n"
     ]
    },
    {
     "data": {
      "image/png": "[encoded data removed]",
      "text/plain": [
       "<Figure size 360x72 with 1 Axes>"
      ]
     },
     "metadata": {
      "needs_background": "light"
     },
     "output_type": "display_data"
    },
    {
     "name": "stdout",
     "output_type": "stream",
     "text": [
      "========== OLDER FAMILIES - Budget ==========\n",
      "134.0    1996\n",
      "150.0    3414\n",
      "175.0    5662\n",
      "Name: Pack_Size, dtype: int64\n"
     ]
    },
    {
     "data": {
      "image/png": "[encoded data removed]",
      "text/plain": [
       "<Figure size 360x72 with 1 Axes>"
      ]
     },
     "metadata": {
      "needs_background": "light"
     },
     "output_type": "display_data"
    },
    {
     "name": "stdout",
     "output_type": "stream",
     "text": [
      "========== RETIREES - Premium ==========\n",
      "134.0    1331\n",
      "150.0    1883\n",
      "175.0    3232\n",
      "Name: Pack_Size, dtype: int64\n"
     ]
    },
    {
     "data": {
      "image/png": "[encoded data removed]",
      "text/plain": [
       "<Figure size 360x72 with 1 Axes>"
      ]
     },
     "metadata": {
      "needs_background": "light"
     },
     "output_type": "display_data"
    },
    {
     "name": "stdout",
     "output_type": "stream",
     "text": [
      "========== RETIREES - Mainstream ==========\n",
      "134.0    2103\n",
      "150.0    3183\n",
      "175.0    5187\n",
      "Name: Pack_Size, dtype: int64\n"
     ]
    },
    {
     "data": {
      "image/png": "[encoded data removed]",
      "text/plain": [
       "<Figure size 360x72 with 1 Axes>"
      ]
     },
     "metadata": {
      "needs_background": "light"
     },
     "output_type": "display_data"
    },
    {
     "name": "stdout",
     "output_type": "stream",
     "text": [
      "========== RETIREES - Budget ==========\n",
      "134.0    1517\n",
      "150.0    2242\n",
      "175.0    3768\n",
      "Name: Pack_Size, dtype: int64\n"
     ]
    },
    {
     "data": {
      "image/png": "[encoded data removed]",
      "text/plain": [
       "<Figure size 360x72 with 1 Axes>"
      ]
     },
     "metadata": {
      "needs_background": "light"
     },
     "output_type": "display_data"
    }
   ],
   "source": [
    "merged_pack = pd.concat([joined_sets, PACK_SIZE.rename('Pack_Size')], axis=1)\n",
    "\n",
    "for stage in joined_sets['LIFESTAGE'].unique():\n",
    "    for prem in joined_sets['PREMIUM_CUSTOMER'].unique():\n",
    "        print('==========',stage, '-', prem,'==========')\n",
    "        summary = merged_pack[(merged_pack['LIFESTAGE'] == stage) & (merged_pack['PREMIUM_CUSTOMER'] == prem)]['Pack_Size'].value_counts().head(3).sort_index()\n",
    "        print(summary)\n",
    "        plt.figure()\n",
    "        summary.plot.barh(figsize=(5,1))\n",
    "        plt.show()"
   ]
  },
  {
   "cell_type": "code",
   "execution_count": 41,
   "metadata": {},
   "outputs": [
    {
     "data": {
      "text/plain": [
       "LIFESTAGE               PREMIUM_CUSTOMER\n",
       "OLDER FAMILIES          Mainstream          9.255380\n",
       "                        Budget              9.076773\n",
       "                        Premium             9.071717\n",
       "YOUNG FAMILIES          Budget              8.722995\n",
       "                        Premium             8.716013\n",
       "                        Mainstream          8.638361\n",
       "OLDER SINGLES/COUPLES   Budget              6.781398\n",
       "                        Premium             6.769543\n",
       "                        Mainstream          6.712021\n",
       "MIDAGE SINGLES/COUPLES  Mainstream          6.432080\n",
       "RETIREES                Budget              6.141847\n",
       "                        Premium             6.103358\n",
       "MIDAGE SINGLES/COUPLES  Premium             6.078514\n",
       "                        Budget              6.026459\n",
       "RETIREES                Mainstream          5.925920\n",
       "NEW FAMILIES            Mainstream          4.891566\n",
       "                        Budget              4.821527\n",
       "                        Premium             4.815652\n",
       "YOUNG SINGLES/COUPLES   Mainstream          4.575597\n",
       "                        Premium             4.264113\n",
       "                        Budget              4.250069\n",
       "dtype: float64"
      ]
     },
     "execution_count": 41,
     "metadata": {},
     "output_type": "execute_result"
    }
   ],
   "source": [
    "(temp.groupby(['LIFESTAGE', 'PREMIUM_CUSTOMER'])['PROD_QTY'].sum() / temp.groupby(['LIFESTAGE', 'PREMIUM_CUSTOMER'])['LYLTY_CARD_NBR'].nunique()).sort_values(ascending=False)"
   ]
  },
  {
   "cell_type": "code",
   "execution_count": 42,
   "metadata": {},
   "outputs": [
    {
     "data": {
      "image/png": "[encoded data removed]",
      "text/plain": [
       "<Figure size 1080x288 with 1 Axes>"
      ]
     },
     "metadata": {
      "needs_background": "light"
     },
     "output_type": "display_data"
    }
   ],
   "source": [
    "(temp.groupby(['LIFESTAGE', 'PREMIUM_CUSTOMER'])['PROD_QTY'].sum() / temp.groupby(['LIFESTAGE', 'PREMIUM_CUSTOMER'])['LYLTY_CARD_NBR'].nunique()).unstack().plot.bar(figsize=(15,4), rot=0)\n",
    "plt.legend(loc='center left', bbox_to_anchor=(1.0, 0.5))\n",
    "plt.savefig('Average purchase quantity per segment.png', bbox_inches='tight')"
   ]
  },
  {
   "cell_type": "code",
   "execution_count": 43,
   "metadata": {},
   "outputs": [
    {
     "data": {
      "text/plain": [
       "Segment\n",
       "YOUNG SINGLES/COUPLES - Mainstream     4.065642\n",
       "MIDAGE SINGLES/COUPLES - Mainstream    3.994241\n",
       "RETIREES - Budget                      3.924404\n",
       "RETIREES - Premium                     3.920942\n",
       "NEW FAMILIES - Budget                  3.917688\n",
       "NEW FAMILIES - Mainstream              3.916133\n",
       "OLDER SINGLES/COUPLES - Premium        3.893182\n",
       "OLDER SINGLES/COUPLES - Budget         3.882096\n",
       "NEW FAMILIES - Premium                 3.872110\n",
       "RETIREES - Mainstream                  3.844294\n",
       "OLDER SINGLES/COUPLES - Mainstream     3.814665\n",
       "MIDAGE SINGLES/COUPLES - Premium       3.770698\n",
       "YOUNG FAMILIES - Premium               3.762150\n",
       "YOUNG FAMILIES - Budget                3.760737\n",
       "OLDER FAMILIES - Budget                3.745340\n",
       "MIDAGE SINGLES/COUPLES - Budget        3.743328\n",
       "OLDER FAMILIES - Mainstream            3.737077\n",
       "YOUNG FAMILIES - Mainstream            3.724533\n",
       "OLDER FAMILIES - Premium               3.717000\n",
       "YOUNG SINGLES/COUPLES - Premium        3.665414\n",
       "YOUNG SINGLES/COUPLES - Budget         3.657366\n",
       "Name: Unit_Price, dtype: float64"
      ]
     },
     "execution_count": 43,
     "metadata": {},
     "output_type": "execute_result"
    }
   ],
   "source": [
    "#Average chips price per transaction by segments\n",
    "temp['Unit_Price'] = temp['TOT_SALES'] / temp['PROD_QTY']\n",
    "temp.groupby(['Segment']).mean()['Unit_Price'].sort_values(ascending=False)"
   ]
  },
  {
   "cell_type": "code",
   "execution_count": 44,
   "metadata": {},
   "outputs": [
    {
     "data": {
      "text/plain": [
       "<matplotlib.legend.Legend at 0x18616b067f0>"
      ]
     },
     "execution_count": 44,
     "metadata": {},
     "output_type": "execute_result"
    },
    {
     "data": {
      "image/png": "[encoded data removed]",
      "text/plain": [
       "<Figure size 1080x288 with 1 Axes>"
      ]
     },
     "metadata": {
      "needs_background": "light"
     },
     "output_type": "display_data"
    }
   ],
   "source": [
    "temp.groupby(['LIFESTAGE', 'PREMIUM_CUSTOMER']).mean()['Unit_Price'].unstack().plot.bar(figsize=(15,4), rot=0)\n",
    "plt.legend(loc='center left', bbox_to_anchor=(1,0.5))"
   ]
  },
  {
   "cell_type": "markdown",
   "metadata": {},
   "source": [
    "#Insights \n",
    "\n",
    "Top 3 total sales contributor segment are\n",
    "\n",
    "- Older families (Budget)\n",
    "- Young Singles/Couples (Mainstream)\n",
    "- Retirees (Mainstream)\n",
    "\n",
    "- Young Sinlges/Couples have high total sales because they are the most populous demographic\n",
    "- Older families have the highest purchase frequency\n",
    "- Kettle brand chips were the most frequnently purchased by every segment\n",
    "- Young and Midage Singles/Couples is the only segment that had a different preference (Doritos) as opposed to Smiths\n",
    "- Most frequent chip size purchased is 175gr followed by the 150gr chip size for all segments.\n",
    "\n"
   ]
  },
  {
   "cell_type": "markdown",
   "metadata": {},
   "source": [
    "#Reccomendations\n",
    "\n",
    "Older Families:\n",
    "- Focus on the Budget segment.\n",
    "- Tend to make bigger purchaes, create coupons or specials to encourage bulk buying\n",
    "\n",
    "Young Singles/Couples:\n",
    "- Focus on the Mainstream segment.\n",
    "- Most populous segment, make sure deals and specials reach them and reach them frequently (encourage refferals?)\n",
    "\n",
    "Retirees:\n",
    "- Focus on the Mainstream segment.\n",
    "- Same scenario as Young Singles/Couples, their strenght is in their population size\n",
    "\n",
    "General:\n",
    "- All segments has Kettle as the most frequently purchased brand, and 175gr (regardless of brand) followed by 150gr as the preferred chip size.\n",
    "\n"
   ]
  },
  {
   "cell_type": "code",
   "execution_count": 45,
   "metadata": {},
   "outputs": [
    {
     "data": {
      "text/html": [
       "<div>\n",
       "<style scoped>\n",
       "    .dataframe tbody tr th:only-of-type {\n",
       "        vertical-align: middle;\n",
       "    }\n",
       "\n",
       "    .dataframe tbody tr th {\n",
       "        vertical-align: top;\n",
       "    }\n",
       "\n",
       "    .dataframe thead th {\n",
       "        text-align: right;\n",
       "    }\n",
       "</style>\n",
       "<table border=\"1\" class=\"dataframe\">\n",
       "  <thead>\n",
       "    <tr style=\"text-align: right;\">\n",
       "      <th></th>\n",
       "      <th>Segment</th>\n",
       "      <th>Cleaned_Brand_Names</th>\n",
       "      <th>TOT_SALES</th>\n",
       "    </tr>\n",
       "  </thead>\n",
       "  <tbody>\n",
       "    <tr>\n",
       "      <th>0</th>\n",
       "      <td>YOUNG SINGLES/COUPLES - Mainstream</td>\n",
       "      <td>Kettle</td>\n",
       "      <td>35423.6</td>\n",
       "    </tr>\n",
       "    <tr>\n",
       "      <th>8</th>\n",
       "      <td>YOUNG SINGLES/COUPLES - Mainstream</td>\n",
       "      <td>Doritos</td>\n",
       "      <td>20925.9</td>\n",
       "    </tr>\n",
       "    <tr>\n",
       "      <th>22</th>\n",
       "      <td>YOUNG SINGLES/COUPLES - Mainstream</td>\n",
       "      <td>Pringles</td>\n",
       "      <td>16006.2</td>\n",
       "    </tr>\n",
       "    <tr>\n",
       "      <th>24</th>\n",
       "      <td>YOUNG SINGLES/COUPLES - Mainstream</td>\n",
       "      <td>Smiths</td>\n",
       "      <td>14958.9</td>\n",
       "    </tr>\n",
       "    <tr>\n",
       "      <th>54</th>\n",
       "      <td>YOUNG SINGLES/COUPLES - Mainstream</td>\n",
       "      <td>Infuzions</td>\n",
       "      <td>8749.4</td>\n",
       "    </tr>\n",
       "    <tr>\n",
       "      <th>61</th>\n",
       "      <td>YOUNG SINGLES/COUPLES - Mainstream</td>\n",
       "      <td>Twisties</td>\n",
       "      <td>7539.8</td>\n",
       "    </tr>\n",
       "    <tr>\n",
       "      <th>69</th>\n",
       "      <td>YOUNG SINGLES/COUPLES - Mainstream</td>\n",
       "      <td>Tostitos</td>\n",
       "      <td>7238.0</td>\n",
       "    </tr>\n",
       "    <tr>\n",
       "      <th>70</th>\n",
       "      <td>YOUNG SINGLES/COUPLES - Mainstream</td>\n",
       "      <td>Thins</td>\n",
       "      <td>7217.1</td>\n",
       "    </tr>\n",
       "    <tr>\n",
       "      <th>84</th>\n",
       "      <td>YOUNG SINGLES/COUPLES - Mainstream</td>\n",
       "      <td>Cobs</td>\n",
       "      <td>6144.6</td>\n",
       "    </tr>\n",
       "    <tr>\n",
       "      <th>115</th>\n",
       "      <td>YOUNG SINGLES/COUPLES - Mainstream</td>\n",
       "      <td>Tyrrells</td>\n",
       "      <td>4800.6</td>\n",
       "    </tr>\n",
       "    <tr>\n",
       "      <th>122</th>\n",
       "      <td>YOUNG SINGLES/COUPLES - Mainstream</td>\n",
       "      <td>RRD</td>\n",
       "      <td>4509.9</td>\n",
       "    </tr>\n",
       "    <tr>\n",
       "      <th>136</th>\n",
       "      <td>YOUNG SINGLES/COUPLES - Mainstream</td>\n",
       "      <td>Grain Waves</td>\n",
       "      <td>4201.0</td>\n",
       "    </tr>\n",
       "    <tr>\n",
       "      <th>172</th>\n",
       "      <td>YOUNG SINGLES/COUPLES - Mainstream</td>\n",
       "      <td>Cheezels</td>\n",
       "      <td>3318.3</td>\n",
       "    </tr>\n",
       "    <tr>\n",
       "      <th>227</th>\n",
       "      <td>YOUNG SINGLES/COUPLES - Mainstream</td>\n",
       "      <td>Natural Chip Co</td>\n",
       "      <td>2130.0</td>\n",
       "    </tr>\n",
       "    <tr>\n",
       "      <th>258</th>\n",
       "      <td>YOUNG SINGLES/COUPLES - Mainstream</td>\n",
       "      <td>Woolworths</td>\n",
       "      <td>1605.8</td>\n",
       "    </tr>\n",
       "    <tr>\n",
       "      <th>298</th>\n",
       "      <td>YOUNG SINGLES/COUPLES - Mainstream</td>\n",
       "      <td>Cheetos</td>\n",
       "      <td>898.8</td>\n",
       "    </tr>\n",
       "    <tr>\n",
       "      <th>308</th>\n",
       "      <td>YOUNG SINGLES/COUPLES - Mainstream</td>\n",
       "      <td>CCs</td>\n",
       "      <td>850.5</td>\n",
       "    </tr>\n",
       "    <tr>\n",
       "      <th>362</th>\n",
       "      <td>YOUNG SINGLES/COUPLES - Mainstream</td>\n",
       "      <td>French</td>\n",
       "      <td>429.0</td>\n",
       "    </tr>\n",
       "    <tr>\n",
       "      <th>371</th>\n",
       "      <td>YOUNG SINGLES/COUPLES - Mainstream</td>\n",
       "      <td>Sunbites</td>\n",
       "      <td>391.0</td>\n",
       "    </tr>\n",
       "    <tr>\n",
       "      <th>394</th>\n",
       "      <td>YOUNG SINGLES/COUPLES - Mainstream</td>\n",
       "      <td>Burger</td>\n",
       "      <td>243.8</td>\n",
       "    </tr>\n",
       "  </tbody>\n",
       "</table>\n",
       "</div>"
      ],
      "text/plain": [
       "                                Segment Cleaned_Brand_Names  TOT_SALES\n",
       "0    YOUNG SINGLES/COUPLES - Mainstream              Kettle    35423.6\n",
       "8    YOUNG SINGLES/COUPLES - Mainstream             Doritos    20925.9\n",
       "22   YOUNG SINGLES/COUPLES - Mainstream            Pringles    16006.2\n",
       "24   YOUNG SINGLES/COUPLES - Mainstream              Smiths    14958.9\n",
       "54   YOUNG SINGLES/COUPLES - Mainstream           Infuzions     8749.4\n",
       "61   YOUNG SINGLES/COUPLES - Mainstream            Twisties     7539.8\n",
       "69   YOUNG SINGLES/COUPLES - Mainstream            Tostitos     7238.0\n",
       "70   YOUNG SINGLES/COUPLES - Mainstream               Thins     7217.1\n",
       "84   YOUNG SINGLES/COUPLES - Mainstream                Cobs     6144.6\n",
       "115  YOUNG SINGLES/COUPLES - Mainstream            Tyrrells     4800.6\n",
       "122  YOUNG SINGLES/COUPLES - Mainstream                 RRD     4509.9\n",
       "136  YOUNG SINGLES/COUPLES - Mainstream         Grain Waves     4201.0\n",
       "172  YOUNG SINGLES/COUPLES - Mainstream            Cheezels     3318.3\n",
       "227  YOUNG SINGLES/COUPLES - Mainstream     Natural Chip Co     2130.0\n",
       "258  YOUNG SINGLES/COUPLES - Mainstream          Woolworths     1605.8\n",
       "298  YOUNG SINGLES/COUPLES - Mainstream             Cheetos      898.8\n",
       "308  YOUNG SINGLES/COUPLES - Mainstream                 CCs      850.5\n",
       "362  YOUNG SINGLES/COUPLES - Mainstream              French      429.0\n",
       "371  YOUNG SINGLES/COUPLES - Mainstream            Sunbites      391.0\n",
       "394  YOUNG SINGLES/COUPLES - Mainstream              Burger      243.8"
      ]
     },
     "execution_count": 45,
     "metadata": {},
     "output_type": "execute_result"
    }
   ],
   "source": [
    "z = temp.groupby(['Segment', 'Cleaned_Brand_Names']).sum()['TOT_SALES'].sort_values(ascending=False).reset_index()\n",
    "z[z['Segment'] == 'YOUNG SINGLES/COUPLES - Mainstream']"
   ]
  },
  {
   "cell_type": "code",
   "execution_count": null,
   "metadata": {},
   "outputs": [],
   "source": []
  }
 ],
 "metadata": {
  "kernelspec": {
   "display_name": "Python 3",
   "language": "python",
   "name": "python3"
  },
  "language_info": {
   "codemirror_mode": {
    "name": "ipython",
    "version": 3
   },
   "file_extension": ".py",
   "mimetype": "text/x-python",
   "name": "python",
   "nbconvert_exporter": "python",
   "pygments_lexer": "ipython3",
   "version": "3.8.3"
  }
 },
 "nbformat": 4,
 "nbformat_minor": 4
}
